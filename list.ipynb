{
 "cells": [
  {
   "cell_type": "code",
   "execution_count": null,
   "id": "31078eec",
   "metadata": {},
   "outputs": [],
   "source": [
    "lst=[10,10,10,20,30,\"hello\"]\n",
    "new_list=[]\n",
    "for i in lst:\n",
    "    if i not in new_list:\n",
    "        new_list.append(i)\n",
    "print(new_list)"
   ]
  },
  {
   "cell_type": "code",
   "execution_count": null,
   "id": "bfd3d1e3",
   "metadata": {},
   "outputs": [],
   "source": [
    "lst=[10,10,10,20,30,\"hello\"]\n",
    "new_list=set(lst)\n",
    "print(new_list)"
   ]
  },
  {
   "cell_type": "code",
   "execution_count": 2,
   "id": "4da941d5",
   "metadata": {},
   "outputs": [
    {
     "name": "stdout",
     "output_type": "stream",
     "text": [
      "[10, 20, 30, 40, 50, 60]\n"
     ]
    }
   ],
   "source": [
    "#append()method\n",
    "lst=[10,20,30,40,50]\n",
    "lst.append(60)\n",
    "print(lst)"
   ]
  },
  {
   "cell_type": "code",
   "execution_count": 4,
   "id": "222dee54",
   "metadata": {},
   "outputs": [
    {
     "name": "stdout",
     "output_type": "stream",
     "text": [
      "['car', 'bus', 'train', 'bike']\n"
     ]
    }
   ],
   "source": [
    "lst=[\"car\",\"bus\",\"train\"]\n",
    "lst.append(\"bike\")\n",
    "print(lst)"
   ]
  },
  {
   "cell_type": "code",
   "execution_count": 6,
   "id": "4821c6c7",
   "metadata": {},
   "outputs": [
    {
     "name": "stdout",
     "output_type": "stream",
     "text": [
      "['car', 'bus', 'train', [10, 20, 30]]\n"
     ]
    }
   ],
   "source": [
    "list_1=[\"car\",\"bus\",\"train\"]\n",
    "list_2=[10,20,30]\n",
    "list_1.append(list_2)\n",
    "print(list_1)"
   ]
  },
  {
   "cell_type": "code",
   "execution_count": 7,
   "id": "b90034c9",
   "metadata": {},
   "outputs": [
    {
     "name": "stdout",
     "output_type": "stream",
     "text": [
      "[]\n"
     ]
    }
   ],
   "source": [
    "#clear()method\n",
    "lst=[10,200,82,7997,66]\n",
    "lst.clear()\n",
    "print(lst)"
   ]
  },
  {
   "cell_type": "code",
   "execution_count": 9,
   "id": "937b0871",
   "metadata": {},
   "outputs": [
    {
     "name": "stdout",
     "output_type": "stream",
     "text": [
      "[]\n"
     ]
    }
   ],
   "source": [
    "lst=['python','java','cpp','php']\n",
    "lst.clear()\n",
    "print(lst)"
   ]
  },
  {
   "cell_type": "code",
   "execution_count": 13,
   "id": "9bf747e6",
   "metadata": {},
   "outputs": [
    {
     "name": "stdout",
     "output_type": "stream",
     "text": [
      "[]\n"
     ]
    }
   ],
   "source": [
    "lis=[[1,2,3],[4,5,6],[7,8,9]]\n",
    "lis.clear()\n",
    "print(lis)"
   ]
  },
  {
   "cell_type": "code",
   "execution_count": 14,
   "id": "99287f6d",
   "metadata": {},
   "outputs": [
    {
     "name": "stdout",
     "output_type": "stream",
     "text": [
      "[[], [4, 5, 6], [7, 8, 9]]\n"
     ]
    }
   ],
   "source": [
    "lis=[[1,2,3],[4,5,6],[7,8,9]]\n",
    "lis[0].clear()\n",
    "print(lis)"
   ]
  },
  {
   "cell_type": "code",
   "execution_count": 19,
   "id": "19c2df95",
   "metadata": {},
   "outputs": [
    {
     "name": "stdout",
     "output_type": "stream",
     "text": [
      "[['ujjain'], ['indore'], []]\n"
     ]
    }
   ],
   "source": [
    "lst=[[\"ujjain\"],[\"indore\"],[\"bhopal\"]]\n",
    "lst[2].clear()\n",
    "print(lst)"
   ]
  },
  {
   "cell_type": "code",
   "execution_count": 20,
   "id": "9c9b960c",
   "metadata": {},
   "outputs": [
    {
     "name": "stdout",
     "output_type": "stream",
     "text": [
      "['vscode', 'sublime', 'jupiter']\n"
     ]
    }
   ],
   "source": [
    "#copy()method\n",
    "lst=[\"vscode\",\"sublime\",\"jupiter\"]\n",
    "new_lst=lst.copy()\n",
    "print(new_lst)"
   ]
  },
  {
   "cell_type": "code",
   "execution_count": 35,
   "id": "86e0ae30",
   "metadata": {
    "scrolled": true
   },
   "outputs": [
    {
     "name": "stdout",
     "output_type": "stream",
     "text": [
      "[2, 4, 6]\n"
     ]
    }
   ],
   "source": [
    "list = [2,4,6]\n",
    "new_list=list[:]\n",
    "print(new_list)"
   ]
  },
  {
   "cell_type": "code",
   "execution_count": 3,
   "id": "7ea2df73",
   "metadata": {},
   "outputs": [
    {
     "name": "stdout",
     "output_type": "stream",
     "text": [
      "[10, 20, [30, 40, 50], 60]\n"
     ]
    }
   ],
   "source": [
    "lst=[10,20,[30,40,50],60]\n",
    "new_list=lst.copy()\n",
    "print(new_list)"
   ]
  },
  {
   "cell_type": "code",
   "execution_count": 4,
   "id": "6388b539",
   "metadata": {},
   "outputs": [
    {
     "name": "stdout",
     "output_type": "stream",
     "text": [
      "[90, 'abc', 'jkl', 78, 45]\n"
     ]
    }
   ],
   "source": [
    "lst=[90,'abc','jkl',78,45]\n",
    "copy_lst=lst.copy()\n",
    "print(copy_lst)"
   ]
  },
  {
   "cell_type": "code",
   "execution_count": 6,
   "id": "84d02538",
   "metadata": {},
   "outputs": [
    {
     "name": "stdout",
     "output_type": "stream",
     "text": [
      "3\n"
     ]
    }
   ],
   "source": [
    "#count()method\n",
    "lst=[78,23,56,78,23,98,56,78]\n",
    "print(lst.count(78))"
   ]
  },
  {
   "cell_type": "code",
   "execution_count": 8,
   "id": "51925741",
   "metadata": {},
   "outputs": [
    {
     "name": "stdout",
     "output_type": "stream",
     "text": [
      "2\n"
     ]
    }
   ],
   "source": [
    "lst=[\"apple\",\"samsung\",\"sony\",\"samsung\"]\n",
    "print(lst.count(\"samsung\"))"
   ]
  },
  {
   "cell_type": "code",
   "execution_count": 12,
   "id": "b575f83b",
   "metadata": {},
   "outputs": [
    {
     "name": "stdout",
     "output_type": "stream",
     "text": [
      "2\n"
     ]
    }
   ],
   "source": [
    "list1=[101,[230,510],78,95,[230,510]]\n",
    "print(list1.count([230,510]))"
   ]
  },
  {
   "cell_type": "code",
   "execution_count": 13,
   "id": "25ed2360",
   "metadata": {},
   "outputs": [
    {
     "name": "stdout",
     "output_type": "stream",
     "text": [
      "['asus', 'hp', 'acer', 'lenovo', 'samsung', 'apple', 'sony']\n"
     ]
    }
   ],
   "source": [
    "#extend()method\n",
    "lst1=[\"asus\",\"hp\",\"acer\",\"lenovo\"]\n",
    "lst2=[\"samsung\",\"apple\",\"sony\"]\n",
    "lst1.extend(lst2)\n",
    "print(lst1)"
   ]
  },
  {
   "cell_type": "code",
   "execution_count": 16,
   "id": "0c7ff43d",
   "metadata": {},
   "outputs": [
    {
     "name": "stdout",
     "output_type": "stream",
     "text": [
      "['asus', 'hp', 'acer', 'lenovo', 'samsung', 'apple', 'sony']\n"
     ]
    }
   ],
   "source": [
    "lst=[\"asus\",\"hp\",\"acer\",\"lenovo\"]\n",
    "tup=(\"samsung\",\"apple\",\"sony\")\n",
    "lst.extend(tup)\n",
    "print(lst)"
   ]
  },
  {
   "cell_type": "code",
   "execution_count": 20,
   "id": "1dfe3325",
   "metadata": {},
   "outputs": [
    {
     "name": "stdout",
     "output_type": "stream",
     "text": [
      "['asus', 'hp', 'acer', 'lenovo', 'apple', 'samsung', 'sony']\n"
     ]
    }
   ],
   "source": [
    "lst=[\"asus\",\"hp\",\"acer\",\"lenovo\"]\n",
    "set_1={\"samsung\",\"apple\",\"sony\",\"sony\"}\n",
    "lst.extend(set_1)\n",
    "print(lst)"
   ]
  },
  {
   "cell_type": "code",
   "execution_count": 21,
   "id": "16e7f914",
   "metadata": {},
   "outputs": [
    {
     "name": "stdout",
     "output_type": "stream",
     "text": [
      "['hello', 1, 2, 3, 'w', 'o', 'r', 'l', 'd']\n"
     ]
    }
   ],
   "source": [
    "lst=['hello',1,2,3]\n",
    "lst.extend(\"world\")\n",
    "print(lst)"
   ]
  },
  {
   "cell_type": "code",
   "execution_count": 25,
   "id": "1ce8b3a0",
   "metadata": {},
   "outputs": [
    {
     "name": "stdout",
     "output_type": "stream",
     "text": [
      "['hyundai', 'tata', 'suzuki', 1, 58, 35, 25]\n"
     ]
    }
   ],
   "source": [
    "lst1=[\"hyundai\",\"tata\",\"suzuki\"]\n",
    "lst2={1,58,25,35}\n",
    "lst1.extend(lst2)\n",
    "print(lst1)"
   ]
  },
  {
   "cell_type": "code",
   "execution_count": 27,
   "id": "533a1fd1",
   "metadata": {},
   "outputs": [
    {
     "name": "stdout",
     "output_type": "stream",
     "text": [
      "2\n"
     ]
    }
   ],
   "source": [
    "#index()method\n",
    "list1=[\"mohan\",\"sohan\",\"rahul\",\"abhinav\"]\n",
    "print(list1.index(\"rahul\"))"
   ]
  },
  {
   "cell_type": "code",
   "execution_count": 28,
   "id": "c1bb64ed",
   "metadata": {
    "scrolled": true
   },
   "outputs": [
    {
     "name": "stdout",
     "output_type": "stream",
     "text": [
      "5\n"
     ]
    }
   ],
   "source": [
    "list1=[205,304,5,45,879,9713,551]\n",
    "indices=list1.index(9713)\n",
    "print(indices)"
   ]
  },
  {
   "cell_type": "code",
   "execution_count": 40,
   "id": "0ffb0956",
   "metadata": {},
   "outputs": [
    {
     "name": "stdout",
     "output_type": "stream",
     "text": [
      "4\n"
     ]
    }
   ],
   "source": [
    "list1=[205,304,5,45,879,9713,551]\n",
    "indices=list1.index(879,4,5)\n",
    "print(indices)"
   ]
  },
  {
   "cell_type": "code",
   "execution_count": 41,
   "id": "753099d0",
   "metadata": {},
   "outputs": [
    {
     "name": "stdout",
     "output_type": "stream",
     "text": [
      "[10, 80, 60, 200, 50, 40, 30]\n"
     ]
    }
   ],
   "source": [
    "#insert()method\n",
    "lst=[10,80,60,50,40,30]\n",
    "lst.insert(3,200)\n",
    "print(lst)"
   ]
  },
  {
   "cell_type": "code",
   "execution_count": 42,
   "id": "a73c97ad",
   "metadata": {},
   "outputs": [
    {
     "name": "stdout",
     "output_type": "stream",
     "text": [
      "['we', 'are', 'learning', 'python']\n"
     ]
    }
   ],
   "source": [
    "lst=[\"we\",\"learning\",\"python\"]\n",
    "lst.insert(1,\"are\")\n",
    "print(lst)"
   ]
  },
  {
   "cell_type": "code",
   "execution_count": 44,
   "id": "f67e06ad",
   "metadata": {},
   "outputs": [
    {
     "name": "stdout",
     "output_type": "stream",
     "text": [
      "['hindi', ['malyalam', 'sanskrit'], 'english', 'tamil', 'telgu']\n"
     ]
    }
   ],
   "source": [
    "lst1=[\"hindi\",\"english\",\"tamil\",\"telgu\"]\n",
    "lst2=[\"malyalam\",\"sanskrit\"]\n",
    "lst1.insert(1,lst2)\n",
    "print(lst1)"
   ]
  },
  {
   "cell_type": "code",
   "execution_count": 46,
   "id": "4042026a",
   "metadata": {},
   "outputs": [
    {
     "name": "stdout",
     "output_type": "stream",
     "text": [
      "['hindi', ('malyalam', 'sanskrit'), 'english', 'tamil', 'telgu']\n"
     ]
    }
   ],
   "source": [
    "lst=[\"hindi\",\"english\",\"tamil\",\"telgu\"]\n",
    "tup=(\"malyalam\",\"sanskrit\")\n",
    "lst.insert(1,tup)\n",
    "print(lst)"
   ]
  },
  {
   "cell_type": "code",
   "execution_count": 47,
   "id": "1781ede7",
   "metadata": {},
   "outputs": [
    {
     "name": "stdout",
     "output_type": "stream",
     "text": [
      "['mango', 'apple', 'banana']\n"
     ]
    }
   ],
   "source": [
    "#pop()method\n",
    "fruits=[\"mango\",\"apple\",\"banana\",\"papaya\"]\n",
    "fruits.pop()\n",
    "print(fruits)"
   ]
  },
  {
   "cell_type": "code",
   "execution_count": 48,
   "id": "8ba98964",
   "metadata": {},
   "outputs": [
    {
     "name": "stdout",
     "output_type": "stream",
     "text": [
      "[10, 20, 54, 84]\n"
     ]
    }
   ],
   "source": [
    "list1=[10,20,54,84,[54,87,96,45,44]]\n",
    "list1.pop()\n",
    "print(list1)"
   ]
  },
  {
   "cell_type": "code",
   "execution_count": 49,
   "id": "637c93c6",
   "metadata": {},
   "outputs": [
    {
     "name": "stdout",
     "output_type": "stream",
     "text": [
      "[10, 20, 54, [54, 87, 96, 45, 44]]\n"
     ]
    }
   ],
   "source": [
    "list1=[10,20,54,84,[54,87,96,45,44]]\n",
    "list1.pop(3)\n",
    "print(list1)"
   ]
  },
  {
   "cell_type": "code",
   "execution_count": 58,
   "id": "9290565e",
   "metadata": {},
   "outputs": [
    {
     "name": "stdout",
     "output_type": "stream",
     "text": [
      "[20, 30, 40, 50]\n"
     ]
    }
   ],
   "source": [
    "list1=[20,30,40,50,60]\n",
    "list1.pop()\n",
    "print(list1)"
   ]
  },
  {
   "cell_type": "code",
   "execution_count": 65,
   "id": "2f740469",
   "metadata": {},
   "outputs": [
    {
     "name": "stdout",
     "output_type": "stream",
     "text": [
      "['a', 'c', 'd']\n"
     ]
    }
   ],
   "source": [
    "#remove()method\n",
    "list_1=[\"a\",\"b\",\"c\",\"d\"]\n",
    "list_1.remove(\"b\")\n",
    "print(list_1)"
   ]
  },
  {
   "cell_type": "code",
   "execution_count": 70,
   "id": "21d1da39",
   "metadata": {},
   "outputs": [
    {
     "name": "stdout",
     "output_type": "stream",
     "text": [
      "['abc', 'jkl', 'dsa']\n"
     ]
    }
   ],
   "source": [
    "list1=[\"abc\",\"jkl\",\"xyz\",\"dsa\"]\n",
    "list1.remove(\"xyz\")\n",
    "print(list1)"
   ]
  },
  {
   "cell_type": "code",
   "execution_count": 71,
   "id": "cb90f353",
   "metadata": {},
   "outputs": [
    {
     "name": "stdout",
     "output_type": "stream",
     "text": [
      "['abc', 'xyz', 'dsa']\n"
     ]
    }
   ],
   "source": [
    "list1=[\"abc\",\"xyz\",[10,20,30],\"dsa\"]\n",
    "list1.remove([10,20,30])\n",
    "print(list1)"
   ]
  },
  {
   "cell_type": "code",
   "execution_count": 72,
   "id": "dbcd7ce7",
   "metadata": {},
   "outputs": [
    {
     "name": "stdout",
     "output_type": "stream",
     "text": [
      "[50, 40, 30, 20, 10]\n"
     ]
    }
   ],
   "source": [
    "#remove()method\n",
    "data=[10,20,30,40,50]\n",
    "data.reverse()\n",
    "print(data)"
   ]
  },
  {
   "cell_type": "code",
   "execution_count": 73,
   "id": "49fe13a4",
   "metadata": {},
   "outputs": [
    {
     "name": "stdout",
     "output_type": "stream",
     "text": [
      "['suzuki', 'tata', 'hyundai']\n"
     ]
    }
   ],
   "source": [
    "data=[\"hyundai\",\"tata\",\"suzuki\"]\n",
    "data.reverse()\n",
    "print(data)"
   ]
  },
  {
   "cell_type": "code",
   "execution_count": 75,
   "id": "d3e70e4e",
   "metadata": {},
   "outputs": [
    {
     "name": "stdout",
     "output_type": "stream",
     "text": [
      "[96, 65, 78, 'php', 'java', 10, 'python']\n"
     ]
    }
   ],
   "source": [
    "lst=[\"python\",10,\"java\",\"php\",78,65,96]\n",
    "lst.reverse()\n",
    "print(lst)"
   ]
  },
  {
   "cell_type": "code",
   "execution_count": 76,
   "id": "a04bef5e",
   "metadata": {},
   "outputs": [
    {
     "name": "stdout",
     "output_type": "stream",
     "text": [
      "[10, 20, 30, 40, 50]\n"
     ]
    }
   ],
   "source": [
    "#sort()method\n",
    "lst=[50,40,30,20,10]\n",
    "lst.sort()\n",
    "print(lst)"
   ]
  },
  {
   "cell_type": "code",
   "execution_count": 77,
   "id": "f3200d37",
   "metadata": {},
   "outputs": [
    {
     "name": "stdout",
     "output_type": "stream",
     "text": [
      "[50, 40, 30, 20, 1]\n"
     ]
    }
   ],
   "source": [
    "lst=[10,20,30,40,50]\n",
    "lst.sort(reverse=True)\n",
    "print(lst)"
   ]
  },
  {
   "cell_type": "code",
   "execution_count": 79,
   "id": "49b401fa",
   "metadata": {},
   "outputs": [
    {
     "name": "stdout",
     "output_type": "stream",
     "text": [
      "['d', 'c', 'b', 'a']\n"
     ]
    }
   ],
   "source": [
    "lst=[\"a\",\"b\",\"c\",\"d\"]\n",
    "lst.sort(reverse=True)\n",
    "print(lst)"
   ]
  },
  {
   "cell_type": "code",
   "execution_count": 80,
   "id": "6cf4e3d1",
   "metadata": {},
   "outputs": [
    {
     "name": "stdout",
     "output_type": "stream",
     "text": [
      "['a', 'b', 'c', 'd', 'e']\n"
     ]
    }
   ],
   "source": [
    "lst=[\"e\",\"d\",\"c\",\"b\",\"a\"]\n",
    "lst.sort()\n",
    "print(lst)"
   ]
  },
  {
   "cell_type": "code",
   "execution_count": 81,
   "id": "8d9b14c0",
   "metadata": {},
   "outputs": [
    {
     "name": "stdout",
     "output_type": "stream",
     "text": [
      "[10, 25, 50, 70, 75, 100, 200]\n"
     ]
    }
   ],
   "source": [
    "data=[100,25,75,70,200,50,10]\n",
    "data.sort()\n",
    "print(data)"
   ]
  },
  {
   "cell_type": "code",
   "execution_count": 3,
   "id": "a47661dd",
   "metadata": {},
   "outputs": [
    {
     "name": "stdout",
     "output_type": "stream",
     "text": [
      "apple\n",
      "['grapes', 'apple', 'mango', 'banana']\n",
      "4\n"
     ]
    }
   ],
   "source": [
    "fruits=[\"grapes\",\"apple\",\"mango\"]\n",
    "print(fruits[1])\n",
    "fruits.append(\"banana\")\n",
    "print(fruits)\n",
    "print(len(fruits))"
   ]
  },
  {
   "cell_type": "code",
   "execution_count": 7,
   "id": "69dc355b",
   "metadata": {
    "scrolled": true
   },
   "outputs": [
    {
     "name": "stdout",
     "output_type": "stream",
     "text": [
      "['grapes', 'apple']\n"
     ]
    }
   ],
   "source": [
    "selected_fruits=[\"grapes\",\"apple\",\"mango\"]\n",
    "print(selected_fruits[0:2])"
   ]
  },
  {
   "cell_type": "code",
   "execution_count": 8,
   "id": "42870c63",
   "metadata": {},
   "outputs": [
    {
     "name": "stdout",
     "output_type": "stream",
     "text": [
      "['grapes', 'apple', 'mango', 'guava', 'pinapple']\n"
     ]
    }
   ],
   "source": [
    "selected_fruits=[\"grapes\",\"apple\",\"mango\"]\n",
    "more_fruits=[\"guava\",\"pinapple\"]\n",
    "print(selected_fruits+more_fruits)"
   ]
  },
  {
   "cell_type": "code",
   "execution_count": 14,
   "id": "0956fe81",
   "metadata": {},
   "outputs": [
    {
     "name": "stdout",
     "output_type": "stream",
     "text": [
      "['grapes', 'apple', 'mango', 'grapes', 'apple', 'mango', 'grapes', 'apple', 'mango']\n"
     ]
    }
   ],
   "source": [
    "selected_fruits=[\"grapes\",\"apple\",\"mango\"]\n",
    "new_list=selected_fruits*3\n",
    "print(new_list)"
   ]
  },
  {
   "cell_type": "code",
   "execution_count": 16,
   "id": "790c8eda",
   "metadata": {},
   "outputs": [
    {
     "name": "stdout",
     "output_type": "stream",
     "text": [
      "['grapes', 'apple', 'watermelon', 'mango']\n"
     ]
    }
   ],
   "source": [
    "selected_fruits=[\"grapes\",\"apple\",\"mango\"]\n",
    "selected_fruits.insert(2,\"watermelon\")\n",
    "print(selected_fruits)"
   ]
  },
  {
   "cell_type": "code",
   "execution_count": 18,
   "id": "ec71a98c",
   "metadata": {},
   "outputs": [
    {
     "name": "stdout",
     "output_type": "stream",
     "text": [
      "['grapes', 'mango']\n"
     ]
    }
   ],
   "source": [
    "selected_fruits=[\"grapes\",\"apple\",\"mango\"]\n",
    "selected_fruits.pop(1)\n",
    "print(selected_fruits)"
   ]
  },
  {
   "cell_type": "code",
   "execution_count": 19,
   "id": "97acf7ca",
   "metadata": {},
   "outputs": [
    {
     "name": "stdout",
     "output_type": "stream",
     "text": [
      "['grapes', 'mango']\n"
     ]
    }
   ],
   "source": [
    "selected_fruits=[\"grapes\",\"apple\",\"mango\"]\n",
    "selected_fruits.remove(\"apple\")\n",
    "print(selected_fruits)"
   ]
  },
  {
   "cell_type": "code",
   "execution_count": 20,
   "id": "efe3bcbb",
   "metadata": {},
   "outputs": [
    {
     "name": "stdout",
     "output_type": "stream",
     "text": [
      "[]\n"
     ]
    }
   ],
   "source": [
    "select_fruits=[\"grapes\",\"apple\",\"mango\"]\n",
    "select_fruits.clear()\n",
    "print(select_fruits)"
   ]
  },
  {
   "cell_type": "code",
   "execution_count": 21,
   "id": "6ec1e1d0",
   "metadata": {},
   "outputs": [
    {
     "name": "stdout",
     "output_type": "stream",
     "text": [
      "[4, 23, 50, 56, 78]\n"
     ]
    }
   ],
   "source": [
    "list1=[50,23,78,56,4]\n",
    "list1.sort()\n",
    "print(list1)"
   ]
  },
  {
   "cell_type": "code",
   "execution_count": 22,
   "id": "b918cf9c",
   "metadata": {},
   "outputs": [
    {
     "name": "stdout",
     "output_type": "stream",
     "text": [
      "[78, 56, 50, 23, 4]\n"
     ]
    }
   ],
   "source": [
    "list1=[50,23,78,56,4]\n",
    "list1.sort(reverse=True)\n",
    "print(list1)"
   ]
  },
  {
   "cell_type": "code",
   "execution_count": 24,
   "id": "4416034c",
   "metadata": {},
   "outputs": [
    {
     "name": "stdout",
     "output_type": "stream",
     "text": [
      "[10, 56, 78, 78]\n"
     ]
    }
   ],
   "source": [
    "list1=[10,56,78,21,45,78,65]\n",
    "new_list=[i for i in list1 if i%2==0]\n",
    "print(new_list)"
   ]
  },
  {
   "cell_type": "code",
   "execution_count": 30,
   "id": "73a5f080",
   "metadata": {
    "scrolled": true
   },
   "outputs": [
    {
     "name": "stdout",
     "output_type": "stream",
     "text": [
      "[100, 3136, 6084, 441, 2025, 6084, 4225]\n"
     ]
    }
   ],
   "source": [
    "list1=[10,56,78,21,45,78,65]\n",
    "new_list=[i**2 for i in list1]\n",
    "print(new_list)"
   ]
  },
  {
   "cell_type": "code",
   "execution_count": 31,
   "id": "c08bfb28",
   "metadata": {},
   "outputs": [
    {
     "name": "stdout",
     "output_type": "stream",
     "text": [
      "{65, 10, 45, 78, 21, 56}\n"
     ]
    }
   ],
   "source": [
    "list1=[10,56,78,21,45,78,65]\n",
    "new=set(list1)\n",
    "print(new)"
   ]
  },
  {
   "cell_type": "code",
   "execution_count": 2,
   "id": "03b84d36",
   "metadata": {},
   "outputs": [
    {
     "name": "stdout",
     "output_type": "stream",
     "text": [
      "[-1, 1, 2, 5, 6, 7, 9]\n"
     ]
    }
   ],
   "source": [
    "a = [1,5,7,6,9,2,-1]\n",
    "a.sort()\n",
    "print(a)"
   ]
  },
  {
   "cell_type": "code",
   "execution_count": 33,
   "id": "00198305",
   "metadata": {},
   "outputs": [
    {
     "name": "stdout",
     "output_type": "stream",
     "text": [
      "i 0\n",
      "1\n",
      "5\n",
      "7\n",
      "7\n",
      "9\n",
      "9\n",
      "i 1\n",
      "1\n",
      "5\n",
      "6\n",
      "7\n",
      "7\n",
      "i 2\n",
      "1\n",
      "5\n",
      "6\n",
      "6\n",
      "i 3\n",
      "1\n",
      "5\n",
      "5\n",
      "i 4\n",
      "1\n",
      "2\n",
      "i 5\n",
      "1\n",
      "i 6\n",
      "[-1, 1, 2, 5, 6, 7, 9]\n"
     ]
    }
   ],
   "source": [
    "a = [1,5,7,6,9,2,-1]\n",
    "n=len(a)\n",
    "for i in range(n):\n",
    "    print(\"i\",i)\n",
    "    for j in range(n-i-1):\n",
    "        print(a[j])\n",
    "        if a[j] > a[j+1]:\n",
    "            a[j],a[j+1]=a[j+1],a[j]\n",
    "print(a)"
   ]
  },
  {
   "cell_type": "code",
   "execution_count": 6,
   "id": "a6fc50aa",
   "metadata": {},
   "outputs": [
    {
     "name": "stdout",
     "output_type": "stream",
     "text": [
      "[[3, 'A'], [7, 'Z'], [10, 'B'], [67, 'R'], [78, 'P']]\n"
     ]
    }
   ],
   "source": [
    "a = [[78, \"P\"], [67, \"R\"], [3, \"A\"], [10, \"B\"], [7, \"Z\"]]\n",
    "n=len(a)\n",
    "for i in range(n):\n",
    "    for j in range(n - i - 1):\n",
    "        if  a[j] > a[j+1]:\n",
    "            a[j],a[j+1]=a[j+1],a[j]\n",
    "print(a)"
   ]
  },
  {
   "cell_type": "code",
   "execution_count": 10,
   "id": "3befb59c",
   "metadata": {},
   "outputs": [
    {
     "name": "stdout",
     "output_type": "stream",
     "text": [
      "5\n",
      "5\n",
      "10\n",
      "15\n",
      "20\n",
      "25\n",
      "30\n",
      "35\n",
      "40\n",
      "45\n",
      "50\n"
     ]
    }
   ],
   "source": [
    "n=int(input())\n",
    "for i in range(1,11):\n",
    "    print(i*n)"
   ]
  },
  {
   "cell_type": "code",
   "execution_count": 32,
   "id": "3ddc979a",
   "metadata": {},
   "outputs": [
    {
     "name": "stdout",
     "output_type": "stream",
     "text": [
      "1\t2\t3\t4\t5\t6\t7\t8\t9\t10\t2\t4\t6\t8\t10\t12\t14\t16\t18\t20\t3\t6\t9\t12\t15\t18\t21\t24\t27\t30\t4\t8\t12\t16\t20\t24\t28\t32\t36\t40\t5\t10\t15\t20\t25\t30\t35\t40\t45\t50\t6\t12\t18\t24\t30\t36\t42\t48\t54\t60\t7\t14\t21\t28\t35\t42\t49\t56\t63\t70\t8\t16\t24\t32\t40\t48\t56\t64\t72\t80\t9\t18\t27\t36\t45\t54\t63\t72\t81\t90\t10\t20\t30\t40\t50\t60\t70\t80\t90\t100\t"
     ]
    }
   ],
   "source": [
    "for i in range(1,11):\n",
    "    for j in range(1,11):\n",
    "        print(i*j, end=\"\\t\") "
   ]
  }
 ],
 "metadata": {
  "kernelspec": {
   "display_name": "Python 3 (ipykernel)",
   "language": "python",
   "name": "python3"
  },
  "language_info": {
   "codemirror_mode": {
    "name": "ipython",
    "version": 3
   },
   "file_extension": ".py",
   "mimetype": "text/x-python",
   "name": "python",
   "nbconvert_exporter": "python",
   "pygments_lexer": "ipython3",
   "version": "3.9.7"
  }
 },
 "nbformat": 4,
 "nbformat_minor": 5
}
