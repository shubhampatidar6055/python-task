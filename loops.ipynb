{
 "cells": [
  {
   "cell_type": "code",
   "execution_count": 16,
   "id": "2d5e4d55",
   "metadata": {},
   "outputs": [
    {
     "name": "stdout",
     "output_type": "stream",
     "text": [
      "10\n"
     ]
    }
   ],
   "source": [
    "#for loop\n",
    "#find the largest element of list\n",
    "my_list=[1,7,9,6,4,3,10]\n",
    "largest=my_list[0]\n",
    "for i in my_list:\n",
    "    if i>largest:\n",
    "        largest=i\n",
    "print(largest)"
   ]
  },
  {
   "cell_type": "code",
   "execution_count": 15,
   "id": "a4b194c5",
   "metadata": {},
   "outputs": [
    {
     "name": "stdout",
     "output_type": "stream",
     "text": [
      "3\n"
     ]
    }
   ],
   "source": [
    "#find the smallest element of list\n",
    "my_list=[7,9,6,4,3,10]\n",
    "smallest= my_list[0]\n",
    "for num in my_list:\n",
    "    if num < smallest:\n",
    "        smallest=num\n",
    "print(smallest)"
   ]
  },
  {
   "cell_type": "code",
   "execution_count": 17,
   "id": "a9756d90",
   "metadata": {},
   "outputs": [
    {
     "name": "stdout",
     "output_type": "stream",
     "text": [
      "59.333333333333336\n"
     ]
    }
   ],
   "source": [
    "#find avg of a list\n",
    "my_list=[10,80,61,54,85,66]\n",
    "total=0\n",
    "for num in my_list:\n",
    "    total+=num\n",
    "    average=total/len(my_list)\n",
    "print(average)"
   ]
  },
  {
   "cell_type": "code",
   "execution_count": 25,
   "id": "41d861f0",
   "metadata": {},
   "outputs": [],
   "source": [
    "#print all upper case character of string\n",
    "my_str=\"Hello And Welcome To The World Of Python\"\n",
    "for i in my_str:\n",
    "    if i.isupper==True:\n",
    "print(i)"
   ]
  }
 ],
 "metadata": {
  "kernelspec": {
   "display_name": "Python 3 (ipykernel)",
   "language": "python",
   "name": "python3"
  },
  "language_info": {
   "codemirror_mode": {
    "name": "ipython",
    "version": 3
   },
   "file_extension": ".py",
   "mimetype": "text/x-python",
   "name": "python",
   "nbconvert_exporter": "python",
   "pygments_lexer": "ipython3",
   "version": "3.9.7"
  }
 },
 "nbformat": 4,
 "nbformat_minor": 5
}
