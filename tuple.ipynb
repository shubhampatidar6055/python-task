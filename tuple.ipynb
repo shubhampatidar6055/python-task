{
 "cells": [
  {
   "cell_type": "code",
   "execution_count": 2,
   "id": "731c5adf",
   "metadata": {},
   "outputs": [
    {
     "name": "stdout",
     "output_type": "stream",
     "text": [
      "2\n"
     ]
    }
   ],
   "source": [
    "#count()method\n",
    "tup=(10,20,30,40,20,50)\n",
    "result=tup.count(20)\n",
    "print(result)"
   ]
  },
  {
   "cell_type": "code",
   "execution_count": 4,
   "id": "d6bd2c90",
   "metadata": {},
   "outputs": [
    {
     "name": "stdout",
     "output_type": "stream",
     "text": [
      "1\n"
     ]
    }
   ],
   "source": [
    "tup=(\"mahindra\",\"tata\",\"hyundai\",\"maruti suzuki\",\"tata\")\n",
    "print(tup.count(\"mahindra\"))"
   ]
  },
  {
   "cell_type": "code",
   "execution_count": 9,
   "id": "d689a667",
   "metadata": {},
   "outputs": [
    {
     "name": "stdout",
     "output_type": "stream",
     "text": [
      "1\n"
     ]
    }
   ],
   "source": [
    "tup=((1,2),(\"a\",\"b\"),(3,4),[3,4],(\"a\",\"b\"))\n",
    "print(tup.count((3,4)))"
   ]
  },
  {
   "cell_type": "code",
   "execution_count": 14,
   "id": "d694fb9f",
   "metadata": {},
   "outputs": [
    {
     "name": "stdout",
     "output_type": "stream",
     "text": [
      "1\n"
     ]
    }
   ],
   "source": [
    "#index()method\n",
    "tup=(\"mahindra\",\"tata\",\"hyundai\",\"maruti suzuki\",\"tata\")\n",
    "print(tup.index(\"tata\"))"
   ]
  },
  {
   "cell_type": "code",
   "execution_count": 19,
   "id": "965847b7",
   "metadata": {},
   "outputs": [
    {
     "name": "stdout",
     "output_type": "stream",
     "text": [
      "4\n"
     ]
    }
   ],
   "source": [
    "data=(\"mahindra\",\"tata\",\"hyundai\",\"maruti suzuki\",\"tata\")\n",
    "print(data.index(\"tata\",2))"
   ]
  },
  {
   "cell_type": "code",
   "execution_count": 29,
   "id": "ed691984",
   "metadata": {},
   "outputs": [
    {
     "name": "stdout",
     "output_type": "stream",
     "text": [
      "7\n"
     ]
    }
   ],
   "source": [
    "data=(1,5,78,[6,8,7,9],{6,6,7,1},(2,6,8,5),4,6)\n",
    "print(data.index(6))"
   ]
  },
  {
   "cell_type": "code",
   "execution_count": 20,
   "id": "266028df",
   "metadata": {
    "scrolled": true
   },
   "outputs": [
    {
     "ename": "ValueError",
     "evalue": "tuple.index(x): x not in tuple",
     "output_type": "error",
     "traceback": [
      "\u001b[1;31m---------------------------------------------------------------------------\u001b[0m",
      "\u001b[1;31mValueError\u001b[0m                                Traceback (most recent call last)",
      "\u001b[1;32m~\\AppData\\Local\\Temp/ipykernel_151052/1984688054.py\u001b[0m in \u001b[0;36m<module>\u001b[1;34m\u001b[0m\n\u001b[0;32m      1\u001b[0m \u001b[0mdata\u001b[0m\u001b[1;33m=\u001b[0m\u001b[1;33m(\u001b[0m\u001b[1;34m\"mahindra\"\u001b[0m\u001b[1;33m,\u001b[0m\u001b[1;34m\"tata\"\u001b[0m\u001b[1;33m,\u001b[0m\u001b[1;34m\"hyundai\"\u001b[0m\u001b[1;33m,\u001b[0m\u001b[1;34m\"maruti suzuki\"\u001b[0m\u001b[1;33m,\u001b[0m\u001b[1;34m\"tata\"\u001b[0m\u001b[1;33m)\u001b[0m\u001b[1;33m\u001b[0m\u001b[1;33m\u001b[0m\u001b[0m\n\u001b[1;32m----> 2\u001b[1;33m \u001b[0mprint\u001b[0m\u001b[1;33m(\u001b[0m\u001b[0mdata\u001b[0m\u001b[1;33m.\u001b[0m\u001b[0mindex\u001b[0m\u001b[1;33m(\u001b[0m\u001b[1;34m\"kia\"\u001b[0m\u001b[1;33m)\u001b[0m\u001b[1;33m)\u001b[0m\u001b[1;33m\u001b[0m\u001b[1;33m\u001b[0m\u001b[0m\n\u001b[0m",
      "\u001b[1;31mValueError\u001b[0m: tuple.index(x): x not in tuple"
     ]
    }
   ],
   "source": [
    "data=(\"mahindra\",\"tata\",\"hyundai\",\"maruti suzuki\",\"tata\")\n",
    "print(data.index(\"kia\"))"
   ]
  },
  {
   "cell_type": "code",
   "execution_count": 4,
   "id": "c0e38434",
   "metadata": {},
   "outputs": [
    {
     "name": "stdout",
     "output_type": "stream",
     "text": [
      "white\n",
      "3\n"
     ]
    }
   ],
   "source": [
    "colour=(\"red\",\"white\",\"yellow\")\n",
    "print(colour[1])\n",
    "length=len(colour)\n",
    "print(length)"
   ]
  },
  {
   "cell_type": "code",
   "execution_count": 7,
   "id": "5edb2c99",
   "metadata": {},
   "outputs": [
    {
     "name": "stdout",
     "output_type": "stream",
     "text": [
      "('red', 'white', 'yellow', 'blue', 'green', 'pink', 'red', 'white', 'yellow', 'blue', 'green', 'pink', 'red', 'white', 'yellow', 'blue', 'green', 'pink')\n"
     ]
    }
   ],
   "source": [
    "colour=(\"red\",\"white\",\"yellow\")\n",
    "more_colour=(\"blue\",\"green\",\"pink\")\n",
    "result=colour+more_colour\n",
    "print(result*3)"
   ]
  },
  {
   "cell_type": "code",
   "execution_count": 8,
   "id": "0557bbf5",
   "metadata": {},
   "outputs": [
    {
     "name": "stdout",
     "output_type": "stream",
     "text": [
      "1\n"
     ]
    }
   ],
   "source": [
    "more_colour=(\"blue\",\"green\",\"pink\")\n",
    "result=more_colour.index(\"green\")\n",
    "print(result)"
   ]
  },
  {
   "cell_type": "code",
   "execution_count": 9,
   "id": "5578f555",
   "metadata": {},
   "outputs": [
    {
     "name": "stdout",
     "output_type": "stream",
     "text": [
      "1\n"
     ]
    }
   ],
   "source": [
    "colour=(\"red\",\"white\",\"yellow\")\n",
    "result=colour.count(\"white\")\n",
    "print(result)"
   ]
  },
  {
   "cell_type": "code",
   "execution_count": 14,
   "id": "f0113c51",
   "metadata": {},
   "outputs": [
    {
     "name": "stdout",
     "output_type": "stream",
     "text": [
      "False\n"
     ]
    }
   ],
   "source": [
    "colour=((\"white\",\"black\"),(\"pink\",\"blue\"))\n",
    "result=\"blue\" in colour \n",
    "print(result)"
   ]
  },
  {
   "cell_type": "code",
   "execution_count": 18,
   "id": "6436b848",
   "metadata": {},
   "outputs": [
    {
     "ename": "TypeError",
     "evalue": "'int' object is not iterable",
     "output_type": "error",
     "traceback": [
      "\u001b[1;31m---------------------------------------------------------------------------\u001b[0m",
      "\u001b[1;31mTypeError\u001b[0m                                 Traceback (most recent call last)",
      "\u001b[1;32m~\\AppData\\Local\\Temp/ipykernel_11308/1948752795.py\u001b[0m in \u001b[0;36m<module>\u001b[1;34m\u001b[0m\n\u001b[0;32m      2\u001b[0m \u001b[0mminnum\u001b[0m\u001b[1;33m=\u001b[0m\u001b[0mmin\u001b[0m\u001b[1;33m(\u001b[0m\u001b[0mnumbers\u001b[0m\u001b[1;33m)\u001b[0m\u001b[1;33m\u001b[0m\u001b[1;33m\u001b[0m\u001b[0m\n\u001b[0;32m      3\u001b[0m \u001b[0mmaxnum\u001b[0m\u001b[1;33m=\u001b[0m\u001b[0mmax\u001b[0m\u001b[1;33m(\u001b[0m\u001b[0mnumbers\u001b[0m\u001b[1;33m)\u001b[0m\u001b[1;33m\u001b[0m\u001b[1;33m\u001b[0m\u001b[0m\n\u001b[1;32m----> 4\u001b[1;33m \u001b[0mnum_tuple1\u001b[0m\u001b[1;33m=\u001b[0m\u001b[0mlist\u001b[0m\u001b[1;33m(\u001b[0m\u001b[0mminnum\u001b[0m\u001b[1;33m)\u001b[0m\u001b[1;33m\u001b[0m\u001b[1;33m\u001b[0m\u001b[0m\n\u001b[0m\u001b[0;32m      5\u001b[0m \u001b[0mprint\u001b[0m\u001b[1;33m(\u001b[0m\u001b[0mnum_tuple1\u001b[0m\u001b[1;33m)\u001b[0m\u001b[1;33m\u001b[0m\u001b[1;33m\u001b[0m\u001b[0m\n",
      "\u001b[1;31mTypeError\u001b[0m: 'int' object is not iterable"
     ]
    }
   ],
   "source": [
    "numbers=(100,200,324,78,954)\n",
    "minnum=min(numbers)\n",
    "maxnum=max(numbers)\n",
    "num_tuple1=list(minnum)\n",
    "print(num_tuple1)"
   ]
  },
  {
   "cell_type": "code",
   "execution_count": 22,
   "id": "68476d5c",
   "metadata": {
    "scrolled": true
   },
   "outputs": [
    {
     "name": "stdout",
     "output_type": "stream",
     "text": [
      "(78, 100, 200, 324, 954)\n"
     ]
    }
   ],
   "source": [
    "numbers=(100,200,324,78,954)\n",
    "numbers_2=tuple(sorted(numbers))\n",
    "print(numbers_2)"
   ]
  },
  {
   "cell_type": "code",
   "execution_count": 23,
   "id": "e2eb463c",
   "metadata": {},
   "outputs": [
    {
     "name": "stdout",
     "output_type": "stream",
     "text": [
      "1656\n"
     ]
    }
   ],
   "source": [
    "numbers=(100,200,324,78,954)\n",
    "print(sum(numbers))"
   ]
  },
  {
   "cell_type": "code",
   "execution_count": 24,
   "id": "5ff14a81",
   "metadata": {},
   "outputs": [
    {
     "name": "stdout",
     "output_type": "stream",
     "text": [
      "{100, 324, 200, 78, 954}\n"
     ]
    }
   ],
   "source": [
    "numbers=(100,200,324,78,954)\n",
    "new=set(numbers)\n",
    "print(new)"
   ]
  },
  {
   "cell_type": "code",
   "execution_count": null,
   "id": "78b5991f",
   "metadata": {},
   "outputs": [],
   "source": [
    "Create an empty tuple named empty_tuple.\n",
    "Create a new tuple squared_numbers containing the square of each number in numbers_tuple.\n",
    "Create a new tuple even_numbers containing only the even numbers from numbers_tuple.\n",
    "mxy-bods-msu"
   ]
  },
  {
   "cell_type": "code",
   "execution_count": 6,
   "id": "2a0c75e4",
   "metadata": {},
   "outputs": [
    {
     "name": "stdout",
     "output_type": "stream",
     "text": [
      "(1, 4, 9, 16, 25, 36, 49, 64, 81)\n",
      "(2, 4, 6, 8)\n"
     ]
    }
   ],
   "source": [
    "empty_tuple=()\n",
    "number_tuple=(1,2,3,4,5,6,7,8,9)\n",
    "squared_tuple=tuple(i**2 for i in number_tuple)\n",
    "print(squared_tuple)\n",
    "even_numbers=tuple(i for i in number_tuple if i%2==0)\n",
    "print(even_numbers)"
   ]
  }
 ],
 "metadata": {
  "kernelspec": {
   "display_name": "Python 3 (ipykernel)",
   "language": "python",
   "name": "python3"
  },
  "language_info": {
   "codemirror_mode": {
    "name": "ipython",
    "version": 3
   },
   "file_extension": ".py",
   "mimetype": "text/x-python",
   "name": "python",
   "nbconvert_exporter": "python",
   "pygments_lexer": "ipython3",
   "version": "3.9.7"
  }
 },
 "nbformat": 4,
 "nbformat_minor": 5
}
