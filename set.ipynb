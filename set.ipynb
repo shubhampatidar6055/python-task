{
 "cells": [
  {
   "cell_type": "code",
   "execution_count": 3,
   "id": "8ea10a04",
   "metadata": {
    "scrolled": true
   },
   "outputs": [
    {
     "name": "stdout",
     "output_type": "stream",
     "text": [
      "{'apple', 'grapes', 'banana', 'orange'}\n"
     ]
    }
   ],
   "source": [
    "#add()method\n",
    "fruits={'apple','banana','orange','apple'}\n",
    "fruits.add('grapes')\n",
    "print(fruits)"
   ]
  },
  {
   "cell_type": "code",
   "execution_count": 11,
   "id": "d859e3fd",
   "metadata": {},
   "outputs": [
    {
     "name": "stdout",
     "output_type": "stream",
     "text": [
      "{'a', 'k', 'j', ('b', 'r'), 'l'}\n"
     ]
    }
   ],
   "source": [
    "data1={\"a\",\"j\",\"l\",\"k\"}\n",
    "data2=(\"b\",\"r\")\n",
    "data3=[4,5,6]\n",
    "data1.add(data2)\n",
    "print(data1)"
   ]
  },
  {
   "cell_type": "code",
   "execution_count": 12,
   "id": "58868423",
   "metadata": {},
   "outputs": [
    {
     "ename": "TypeError",
     "evalue": "unhashable type: 'list'",
     "output_type": "error",
     "traceback": [
      "\u001b[1;31m---------------------------------------------------------------------------\u001b[0m",
      "\u001b[1;31mTypeError\u001b[0m                                 Traceback (most recent call last)",
      "\u001b[1;32m~\\AppData\\Local\\Temp/ipykernel_45864/816358917.py\u001b[0m in \u001b[0;36m<module>\u001b[1;34m\u001b[0m\n\u001b[0;32m      1\u001b[0m \u001b[0mset1\u001b[0m\u001b[1;33m=\u001b[0m\u001b[1;33m{\u001b[0m\u001b[1;36m50\u001b[0m\u001b[1;33m,\u001b[0m\u001b[1;36m45\u001b[0m\u001b[1;33m,\u001b[0m\u001b[1;36m60\u001b[0m\u001b[1;33m,\u001b[0m\u001b[1;36m55\u001b[0m\u001b[1;33m}\u001b[0m\u001b[1;33m\u001b[0m\u001b[1;33m\u001b[0m\u001b[0m\n\u001b[0;32m      2\u001b[0m \u001b[0mlist1\u001b[0m\u001b[1;33m=\u001b[0m\u001b[1;33m[\u001b[0m\u001b[1;36m78\u001b[0m\u001b[1;33m,\u001b[0m\u001b[1;36m56\u001b[0m\u001b[1;33m,\u001b[0m\u001b[1;36m89\u001b[0m\u001b[1;33m]\u001b[0m\u001b[1;33m\u001b[0m\u001b[1;33m\u001b[0m\u001b[0m\n\u001b[1;32m----> 3\u001b[1;33m \u001b[0mset1\u001b[0m\u001b[1;33m.\u001b[0m\u001b[0madd\u001b[0m\u001b[1;33m(\u001b[0m\u001b[0mlist1\u001b[0m\u001b[1;33m)\u001b[0m\u001b[1;33m\u001b[0m\u001b[1;33m\u001b[0m\u001b[0m\n\u001b[0m\u001b[0;32m      4\u001b[0m \u001b[0mprint\u001b[0m\u001b[1;33m(\u001b[0m\u001b[0mset1\u001b[0m\u001b[1;33m)\u001b[0m\u001b[1;33m\u001b[0m\u001b[1;33m\u001b[0m\u001b[0m\n",
      "\u001b[1;31mTypeError\u001b[0m: unhashable type: 'list'"
     ]
    }
   ],
   "source": [
    "set1={50,45,60,55}\n",
    "list1=[78,56,89]\n",
    "set1.add(list1)\n",
    "print(set1)"
   ]
  },
  {
   "cell_type": "code",
   "execution_count": 18,
   "id": "21826619",
   "metadata": {},
   "outputs": [
    {
     "name": "stdout",
     "output_type": "stream",
     "text": [
      "{50}\n"
     ]
    }
   ],
   "source": [
    "set1=set()\n",
    "set1.add(50)\n",
    "print(set1)"
   ]
  },
  {
   "cell_type": "code",
   "execution_count": 20,
   "id": "ffee30e1",
   "metadata": {},
   "outputs": [
    {
     "name": "stdout",
     "output_type": "stream",
     "text": [
      "set()\n"
     ]
    }
   ],
   "source": [
    "#clear()method\n",
    "set1={102,56,78,25,59,599,6449,414}\n",
    "set1.clear()\n",
    "print(set1)"
   ]
  },
  {
   "cell_type": "code",
   "execution_count": 21,
   "id": "6ef9e815",
   "metadata": {
    "scrolled": true
   },
   "outputs": [
    {
     "name": "stdout",
     "output_type": "stream",
     "text": [
      "set()\n"
     ]
    }
   ],
   "source": [
    "set1={'apple','banana','orange','apple'}\n",
    "set1.clear()\n",
    "print(set1)"
   ]
  },
  {
   "cell_type": "code",
   "execution_count": 22,
   "id": "1564fef7",
   "metadata": {},
   "outputs": [
    {
     "name": "stdout",
     "output_type": "stream",
     "text": [
      "{'apple', 'banana', 'orange'}\n"
     ]
    }
   ],
   "source": [
    "#copy()method\n",
    "set1={'apple','banana','orange','apple'}\n",
    "set2=set1.copy()\n",
    "print(set2)"
   ]
  },
  {
   "cell_type": "code",
   "execution_count": 24,
   "id": "4b2451df",
   "metadata": {},
   "outputs": [
    {
     "name": "stdout",
     "output_type": "stream",
     "text": [
      "{10, 20, 45, ('jay', 'vijay', 'ajay')}\n"
     ]
    }
   ],
   "source": [
    "set1={10,20,45,(\"jay\",\"vijay\",\"ajay\")}\n",
    "set2=set1.copy()\n",
    "print(set2)"
   ]
  },
  {
   "cell_type": "code",
   "execution_count": 2,
   "id": "ab2393f9",
   "metadata": {},
   "outputs": [
    {
     "name": "stdout",
     "output_type": "stream",
     "text": [
      "{80, 10, 20}\n"
     ]
    }
   ],
   "source": [
    "#difference()method\n",
    "set1={10,20,40,80,50}\n",
    "set2={60,55,78,50,40}\n",
    "set3=set1.difference(set2)\n",
    "print(set3)"
   ]
  },
  {
   "cell_type": "code",
   "execution_count": 3,
   "id": "6bb1d039",
   "metadata": {},
   "outputs": [
    {
     "name": "stdout",
     "output_type": "stream",
     "text": [
      "{60, 78, 55}\n"
     ]
    }
   ],
   "source": [
    "set1={10,20,40,80,50}\n",
    "set2={60,55,78,50,40}\n",
    "set3=set2.difference(set1)\n",
    "print(set3)"
   ]
  },
  {
   "cell_type": "code",
   "execution_count": 5,
   "id": "d9d2d6af",
   "metadata": {},
   "outputs": [
    {
     "name": "stdout",
     "output_type": "stream",
     "text": [
      "{'samsung', 'apple'}\n"
     ]
    }
   ],
   "source": [
    "set1={\"apple\",\"samsung\",\"sony\",\"oppo\"}\n",
    "set2={\"sony\",\"oppo\",\"realme\",\"oneplus\"}\n",
    "set3=set1.difference(set2)\n",
    "print(set3)"
   ]
  },
  {
   "cell_type": "code",
   "execution_count": 6,
   "id": "cbbd0a1f",
   "metadata": {},
   "outputs": [
    {
     "name": "stdout",
     "output_type": "stream",
     "text": [
      "{'oneplus', 'realme'}\n"
     ]
    }
   ],
   "source": [
    "set1={\"apple\",\"samsung\",\"sony\",\"oppo\"}\n",
    "set2={\"sony\",\"oppo\",\"realme\",\"oneplus\"}\n",
    "set3=set2.difference(set1)\n",
    "print(set3)"
   ]
  },
  {
   "cell_type": "code",
   "execution_count": 11,
   "id": "ab3cc372",
   "metadata": {},
   "outputs": [
    {
     "name": "stdout",
     "output_type": "stream",
     "text": [
      "{50, 40}\n"
     ]
    }
   ],
   "source": [
    "#difference_update()method\n",
    "set1={10,20,30,40,50}\n",
    "set2={10,20,30}\n",
    "set3=set1.difference_update(set2)\n",
    "print(set1)"
   ]
  },
  {
   "cell_type": "code",
   "execution_count": 13,
   "id": "eb141b39",
   "metadata": {},
   "outputs": [
    {
     "name": "stdout",
     "output_type": "stream",
     "text": [
      "{'banana', 'pinapple', 'apple'}\n"
     ]
    }
   ],
   "source": [
    "set1={'apple','banana','orange','pinapple'}\n",
    "set2={\"orange\"}\n",
    "set1.difference_update(set2)\n",
    "print(set1)"
   ]
  },
  {
   "cell_type": "code",
   "execution_count": 16,
   "id": "ae3a8f00",
   "metadata": {},
   "outputs": [
    {
     "name": "stdout",
     "output_type": "stream",
     "text": [
      "{101, 201, 301}\n"
     ]
    }
   ],
   "source": [
    "set1={100,101,200,201,300,301}\n",
    "set2={100,200,300}\n",
    "set1.difference_update(set2)\n",
    "print(set1)"
   ]
  },
  {
   "cell_type": "code",
   "execution_count": 17,
   "id": "34f7c05f",
   "metadata": {},
   "outputs": [
    {
     "name": "stdout",
     "output_type": "stream",
     "text": [
      "{'vishal', 'mohan', 'sawan'}\n"
     ]
    }
   ],
   "source": [
    "set1={\"raj\",\"mohan\",\"kamal\",\"sawan\",\"vishal\"}\n",
    "set2={\"raj\",\"kamal\",\"devendra\"}\n",
    "set1.difference_update(set2)\n",
    "print(set1)"
   ]
  },
  {
   "cell_type": "code",
   "execution_count": 18,
   "id": "3e3288b1",
   "metadata": {},
   "outputs": [
    {
     "name": "stdout",
     "output_type": "stream",
     "text": [
      "{1, 2, 4, 5}\n"
     ]
    }
   ],
   "source": [
    "#discard()method\n",
    "set1={1,2,3,4,5}\n",
    "set1.discard(3)\n",
    "print(set1)"
   ]
  },
  {
   "cell_type": "code",
   "execution_count": 19,
   "id": "8c8d4ef5",
   "metadata": {},
   "outputs": [
    {
     "name": "stdout",
     "output_type": "stream",
     "text": [
      "{'k', 'l', 'j'}\n"
     ]
    }
   ],
   "source": [
    "data={\"a\",\"j\",\"l\",\"k\"}\n",
    "data.discard(\"a\")\n",
    "print(data)"
   ]
  },
  {
   "cell_type": "code",
   "execution_count": 23,
   "id": "11ba6590",
   "metadata": {},
   "outputs": [
    {
     "name": "stdout",
     "output_type": "stream",
     "text": [
      "{1, 3, 4, 5, 7, 9}\n"
     ]
    }
   ],
   "source": [
    "set1={1,4,6,7,9,3,4,5}\n",
    "set1.discard(6)\n",
    "print(set1)"
   ]
  },
  {
   "cell_type": "code",
   "execution_count": 25,
   "id": "f6e5bc96",
   "metadata": {},
   "outputs": [
    {
     "name": "stdout",
     "output_type": "stream",
     "text": [
      "{'safari', 'scorpio', 'baleno', 'swift'}\n"
     ]
    }
   ],
   "source": [
    "cars={\"swift\",\"baleno\",\"scorpio\",\"safari\"}\n",
    "cars.discard(\"nexon\")\n",
    "print(cars)"
   ]
  },
  {
   "cell_type": "code",
   "execution_count": 26,
   "id": "d131b499",
   "metadata": {},
   "outputs": [
    {
     "name": "stdout",
     "output_type": "stream",
     "text": [
      "{'oppo', 'sony', 'oneplus'}\n"
     ]
    }
   ],
   "source": [
    "set1={\"sony\",\"oppo\",\"realme\",\"oneplus\"}\n",
    "set1.discard(\"realme\")\n",
    "print(set1)"
   ]
  },
  {
   "cell_type": "code",
   "execution_count": 29,
   "id": "5399c270",
   "metadata": {},
   "outputs": [
    {
     "name": "stdout",
     "output_type": "stream",
     "text": [
      "{3, 4}\n"
     ]
    }
   ],
   "source": [
    "#intersection()method\n",
    "set_a={1,2,3,4,5}\n",
    "set_b={3,4}\n",
    "set_c=set_a.intersection(set_b)\n",
    "print(set_c)"
   ]
  },
  {
   "cell_type": "code",
   "execution_count": 30,
   "id": "aceeab8d",
   "metadata": {},
   "outputs": [
    {
     "name": "stdout",
     "output_type": "stream",
     "text": [
      "{'oppo'}\n"
     ]
    }
   ],
   "source": [
    "set1={\"sony\",\"oppo\",\"realme\",\"oneplus\"}\n",
    "set2={\"oppo\"}\n",
    "set3=set1.intersection(set2)\n",
    "print(set3)"
   ]
  },
  {
   "cell_type": "code",
   "execution_count": 34,
   "id": "3bf6e092",
   "metadata": {},
   "outputs": [
    {
     "name": "stdout",
     "output_type": "stream",
     "text": [
      "{1, 'd', 'a'}\n"
     ]
    }
   ],
   "source": [
    "set_a={\"a\",1,\"b\",\"d\",\"t\",5,7,8}\n",
    "set_b={1,\"d\",\"8\",\"a\"}\n",
    "new_set=set_a.intersection(set_b)\n",
    "print(new_set)"
   ]
  },
  {
   "cell_type": "code",
   "execution_count": 40,
   "id": "cac0b416",
   "metadata": {},
   "outputs": [
    {
     "name": "stdout",
     "output_type": "stream",
     "text": [
      "{'white', 'red', 'green'}\n"
     ]
    }
   ],
   "source": [
    "colours={\"white\",\"red\",\"blue\",\"black\",\"green\"}\n",
    "colours2={\"red\",\"green\",\"white\",\"yellow\"}\n",
    "result=colours2.intersection(colours)\n",
    "print(result)"
   ]
  },
  {
   "cell_type": "code",
   "execution_count": 36,
   "id": "495d62a1",
   "metadata": {},
   "outputs": [
    {
     "name": "stdout",
     "output_type": "stream",
     "text": [
      "{3, 4}\n"
     ]
    }
   ],
   "source": [
    "#intersection_update()method\n",
    "set_a={1,2,3,4,5}\n",
    "set_b={3,4}\n",
    "set_a.intersection_update(set_b)\n",
    "print(set_a)"
   ]
  },
  {
   "cell_type": "code",
   "execution_count": 37,
   "id": "326b29be",
   "metadata": {},
   "outputs": [
    {
     "name": "stdout",
     "output_type": "stream",
     "text": [
      "{'oppo'}\n"
     ]
    }
   ],
   "source": [
    "set1={\"sony\",\"oppo\",\"realme\",\"oneplus\"}\n",
    "set2={\"oppo\"}\n",
    "set1.intersection_update(set2)\n",
    "print(set1)"
   ]
  },
  {
   "cell_type": "code",
   "execution_count": 38,
   "id": "83da9224",
   "metadata": {},
   "outputs": [
    {
     "name": "stdout",
     "output_type": "stream",
     "text": [
      "{1, 'd', 'a'}\n"
     ]
    }
   ],
   "source": [
    "set_a={\"a\",1,\"b\",\"d\",\"t\",5,7,8}\n",
    "set_b={1,\"d\",\"8\",\"a\"}\n",
    "set_a.intersection_update(set_b)\n",
    "print(set_a)"
   ]
  },
  {
   "cell_type": "code",
   "execution_count": 39,
   "id": "394c1603",
   "metadata": {},
   "outputs": [
    {
     "name": "stdout",
     "output_type": "stream",
     "text": [
      "{'white', 'red', 'green'}\n"
     ]
    }
   ],
   "source": [
    "colours={\"white\",\"red\",\"blue\",\"black\",\"green\"}\n",
    "colours2={\"red\",\"green\",\"white\"}\n",
    "colours.intersection_update(colours2)\n",
    "print(colours)"
   ]
  },
  {
   "cell_type": "code",
   "execution_count": 44,
   "id": "32d2c642",
   "metadata": {},
   "outputs": [
    {
     "name": "stdout",
     "output_type": "stream",
     "text": [
      "True\n"
     ]
    }
   ],
   "source": [
    "#isdisjoint()method\n",
    "set1={2,4,6,8}\n",
    "set2={3,5,7,9}\n",
    "output=set1.isdisjoint(set2)\n",
    "print(output)"
   ]
  },
  {
   "cell_type": "code",
   "execution_count": 45,
   "id": "5e9c5af8",
   "metadata": {},
   "outputs": [
    {
     "name": "stdout",
     "output_type": "stream",
     "text": [
      "False\n"
     ]
    }
   ],
   "source": [
    "set1={1,5,9,7,3}\n",
    "set2={2,4,6,3}\n",
    "result=set1.isdisjoint(set2)\n",
    "print(result)"
   ]
  },
  {
   "cell_type": "code",
   "execution_count": 46,
   "id": "717f7394",
   "metadata": {},
   "outputs": [
    {
     "name": "stdout",
     "output_type": "stream",
     "text": [
      "True\n"
     ]
    }
   ],
   "source": [
    "set1={1,2,3,4}\n",
    "list1=[5,6,7]\n",
    "output=set1.isdisjoint(list1)\n",
    "print(output)"
   ]
  },
  {
   "cell_type": "code",
   "execution_count": 47,
   "id": "fcd771ae",
   "metadata": {},
   "outputs": [
    {
     "name": "stdout",
     "output_type": "stream",
     "text": [
      "True\n"
     ]
    }
   ],
   "source": [
    "set1={1,2,3,4}\n",
    "tup=(5,6,7)\n",
    "output=set1.isdisjoint(tup)\n",
    "print(output)"
   ]
  },
  {
   "cell_type": "code",
   "execution_count": 48,
   "id": "33c66ffa",
   "metadata": {},
   "outputs": [
    {
     "name": "stdout",
     "output_type": "stream",
     "text": [
      "True\n"
     ]
    }
   ],
   "source": [
    "set1=set()\n",
    "set2=set()\n",
    "result=set1.isdisjoint(set2)\n",
    "print(result)"
   ]
  },
  {
   "cell_type": "code",
   "execution_count": 51,
   "id": "bba1b571",
   "metadata": {},
   "outputs": [
    {
     "name": "stdout",
     "output_type": "stream",
     "text": [
      "True\n"
     ]
    }
   ],
   "source": [
    "#issubset()method\n",
    "set1={1,2,3,4}\n",
    "set2={4,3}\n",
    "result=set2.issubset(set1)\n",
    "print(result)"
   ]
  },
  {
   "cell_type": "code",
   "execution_count": 54,
   "id": "a30b3783",
   "metadata": {},
   "outputs": [
    {
     "name": "stdout",
     "output_type": "stream",
     "text": [
      "False\n",
      "True\n"
     ]
    }
   ],
   "source": [
    "set1={\"a\",\"b\",\"c\",\"d\"}\n",
    "set2={\"a\",\"c\",\"d\"}\n",
    "result=set1.issubset(set2)\n",
    "result1=set2.issubset(set1)\n",
    "print(result)\n",
    "print(result1)"
   ]
  },
  {
   "cell_type": "code",
   "execution_count": 2,
   "id": "2e667ba7",
   "metadata": {},
   "outputs": [
    {
     "name": "stdout",
     "output_type": "stream",
     "text": [
      "False\n",
      "True\n"
     ]
    }
   ],
   "source": [
    "set1={\"abc\",\"def\",\"ghi\",\"jkl\"}\n",
    "set2={\"def\",\"ghi\"}\n",
    "result=set1.issubset(set2)\n",
    "result1=set2.issubset(set1)\n",
    "print(result)\n",
    "print(result1)"
   ]
  },
  {
   "cell_type": "code",
   "execution_count": 6,
   "id": "abb91e50",
   "metadata": {},
   "outputs": [
    {
     "name": "stdout",
     "output_type": "stream",
     "text": [
      "True\n"
     ]
    }
   ],
   "source": [
    "#issuperset()method\n",
    "set1={1,4,6,7}\n",
    "set2={4,1,7}\n",
    "result=set1.issuperset(set2)\n",
    "print(result)"
   ]
  },
  {
   "cell_type": "code",
   "execution_count": 8,
   "id": "cac0cead",
   "metadata": {},
   "outputs": [
    {
     "name": "stdout",
     "output_type": "stream",
     "text": [
      "False\n"
     ]
    }
   ],
   "source": [
    "set1={\"madan\",\"sawan\",\"mohan\",\"piyush\"}\n",
    "set2={\"mohan\",\"piyush\",\"rohan\"}\n",
    "result=set1.issuperset(set2)\n",
    "print(result)"
   ]
  },
  {
   "cell_type": "code",
   "execution_count": 17,
   "id": "00bed75e",
   "metadata": {},
   "outputs": [
    {
     "name": "stdout",
     "output_type": "stream",
     "text": [
      "{2, 3, 4, 5, 6, 7, 8}\n"
     ]
    }
   ],
   "source": [
    "#pop()method\n",
    "numbers={1,2,3,4,5,6,7,8}\n",
    "numbers.pop()\n",
    "print(numbers)"
   ]
  },
  {
   "cell_type": "code",
   "execution_count": 18,
   "id": "ffe723de",
   "metadata": {},
   "outputs": [
    {
     "name": "stdout",
     "output_type": "stream",
     "text": [
      "{'a', 'e', 'd', 'f', 'b'}\n"
     ]
    }
   ],
   "source": [
    "set_a={\"a\",\"b\",\"c\",\"d\",\"e\",\"f\"}\n",
    "set_a.pop()\n",
    "print(set_a)"
   ]
  },
  {
   "cell_type": "code",
   "execution_count": 19,
   "id": "b71b843d",
   "metadata": {},
   "outputs": [
    {
     "name": "stdout",
     "output_type": "stream",
     "text": [
      "{'cpp', 'java', 'php', 'python'}\n"
     ]
    }
   ],
   "source": [
    "#remove()method\n",
    "set_1={\"java\",\"python\",\"php\",\"r\",\"cpp\"}\n",
    "set_1.remove(\"r\")\n",
    "print(set_1)"
   ]
  },
  {
   "cell_type": "code",
   "execution_count": 21,
   "id": "4108558e",
   "metadata": {},
   "outputs": [
    {
     "name": "stdout",
     "output_type": "stream",
     "text": [
      "{100, 500, 200, 600, 300}\n"
     ]
    }
   ],
   "source": [
    "num={100,200,300,400,500,600}\n",
    "num.remove(400)\n",
    "print(num)"
   ]
  },
  {
   "cell_type": "code",
   "execution_count": 22,
   "id": "e7392ec3",
   "metadata": {},
   "outputs": [
    {
     "name": "stdout",
     "output_type": "stream",
     "text": [
      "{6}\n"
     ]
    }
   ],
   "source": [
    "#symmetric_difference()method\n",
    "set1={1,4,6,7}\n",
    "set2={4,1,7}\n",
    "result=set1.symmetric_difference(set2)\n",
    "print(result)"
   ]
  },
  {
   "cell_type": "code",
   "execution_count": 24,
   "id": "1906e18b",
   "metadata": {},
   "outputs": [
    {
     "name": "stdout",
     "output_type": "stream",
     "text": [
      "{'carum', 'base ball', 'cricket', 'tennis', 'basket ball'}\n"
     ]
    }
   ],
   "source": [
    "games={\"cricket\",\"hockey\",\"tennis\",\"base ball\"}\n",
    "games_2={\"basket ball\",\"carum\",\"hockey\"}\n",
    "result=games.symmetric_difference(games_2)\n",
    "print(result)"
   ]
  },
  {
   "cell_type": "code",
   "execution_count": 25,
   "id": "b4b5431e",
   "metadata": {},
   "outputs": [
    {
     "name": "stdout",
     "output_type": "stream",
     "text": [
      "{'carum', 'base ball', 'cricket', 'tennis', 'basket ball'}\n"
     ]
    }
   ],
   "source": [
    "#symmetric_difference_update()method\n",
    "games={\"cricket\",\"hockey\",\"tennis\",\"base ball\"}\n",
    "games_2={\"basket ball\",\"carum\",\"hockey\"}\n",
    "games.symmetric_difference_update(games_2)\n",
    "print(games)"
   ]
  },
  {
   "cell_type": "code",
   "execution_count": 26,
   "id": "bc888f06",
   "metadata": {},
   "outputs": [
    {
     "name": "stdout",
     "output_type": "stream",
     "text": [
      "{6}\n"
     ]
    }
   ],
   "source": [
    "set1={1,4,6,7}\n",
    "set2={4,1,7}\n",
    "set1.symmetric_difference_update(set2)\n",
    "print(set1)"
   ]
  },
  {
   "cell_type": "code",
   "execution_count": 27,
   "id": "64a4ee44",
   "metadata": {},
   "outputs": [
    {
     "name": "stdout",
     "output_type": "stream",
     "text": [
      "{70, 40, 10, 80, 50, 20, 90, 60, 30}\n"
     ]
    }
   ],
   "source": [
    "#union()method\n",
    "set_a={90,80,70,60,50}\n",
    "set_b={40,30,20,10}\n",
    "result=set_a.union(set_b)\n",
    "print(result)"
   ]
  },
  {
   "cell_type": "code",
   "execution_count": 28,
   "id": "6c6e5c59",
   "metadata": {},
   "outputs": [
    {
     "name": "stdout",
     "output_type": "stream",
     "text": [
      "{'canada', 'usa', 'russia', 'saudi arab', 'japan', 'israel', 'uk'}\n"
     ]
    }
   ],
   "source": [
    "country_1={\"japan\",\"usa\",\"uk\"}\n",
    "country_2={\"canada\",\"saudi arab\",\"israel\",\"russia\"}\n",
    "output=country_1.union(country_2)\n",
    "print(output)"
   ]
  },
  {
   "cell_type": "code",
   "execution_count": 31,
   "id": "27b627b3",
   "metadata": {},
   "outputs": [
    {
     "name": "stdout",
     "output_type": "stream",
     "text": [
      "{70, 40, 10, 80, 50, 20, 90, 60, 30}\n"
     ]
    }
   ],
   "source": [
    "#update()method\n",
    "set_a={90,80,70,60,50}\n",
    "set_b={40,30,20,10}\n",
    "set_a.update(set_b)\n",
    "print(set_a)"
   ]
  },
  {
   "cell_type": "code",
   "execution_count": 35,
   "id": "9381236f",
   "metadata": {},
   "outputs": [
    {
     "name": "stdout",
     "output_type": "stream",
     "text": [
      "{'a', 'r', 'l', 'k', 'b', 'j'}\n"
     ]
    }
   ],
   "source": [
    "data1={\"a\",\"j\",\"l\",\"k\"}\n",
    "data2={\"b\",\"r\"}\n",
    "data2.update(data1)\n",
    "print(data2)"
   ]
  },
  {
   "cell_type": "code",
   "execution_count": 2,
   "id": "921f9437",
   "metadata": {},
   "outputs": [
    {
     "name": "stdout",
     "output_type": "stream",
     "text": [
      "{3, 4}\n"
     ]
    }
   ],
   "source": [
    "set1 = {1, 2, 3, 4}\n",
    "set2 = {3, 4, 5, 6}\n",
    "result=set1.intersection(set2)\n",
    "print(result)"
   ]
  },
  {
   "cell_type": "code",
   "execution_count": 4,
   "id": "040bc6b1",
   "metadata": {},
   "outputs": [
    {
     "name": "stdout",
     "output_type": "stream",
     "text": [
      "{3, 4}\n"
     ]
    }
   ],
   "source": [
    "set1 = {1, 2, 3, 4}\n",
    "set2 = {3, 4, 5, 6}\n",
    "set3={x for x in set1 if x in set2}\n",
    "print(set3)"
   ]
  },
  {
   "cell_type": "code",
   "execution_count": 20,
   "id": "1211d99c",
   "metadata": {},
   "outputs": [
    {
     "name": "stdout",
     "output_type": "stream",
     "text": [
      "1\n"
     ]
    }
   ],
   "source": [
    "set1 = {1, 2, 3, 4}\n",
    "count=0\n",
    "for x in set1:\n",
    "    count+=1\n",
    "    if count==True:\n",
    "        print(x)\n",
    "        break"
   ]
  },
  {
   "cell_type": "code",
   "execution_count": 14,
   "id": "ba8d9f67",
   "metadata": {},
   "outputs": [
    {
     "name": "stdout",
     "output_type": "stream",
     "text": [
      "{1: None, 2: None, 3: None, 4: None}\n"
     ]
    }
   ],
   "source": [
    "set1 = {1, 2, 3, 4}\n",
    "b={}\n",
    "result=b.fromkeys(set1)\n",
    "print(result)"
   ]
  },
  {
   "cell_type": "code",
   "execution_count": 15,
   "id": "655f1f05",
   "metadata": {},
   "outputs": [
    {
     "name": "stdout",
     "output_type": "stream",
     "text": [
      "{1: 2, 2: 4, 3: 6, 4: 8}\n"
     ]
    }
   ],
   "source": [
    "set1 = {1, 2, 3, 4}\n",
    "set2={x:x*2 for x in set1}\n",
    "print(set2)"
   ]
  },
  {
   "cell_type": "code",
   "execution_count": null,
   "id": "feaa0d64",
   "metadata": {},
   "outputs": [],
   "source": [
    "def Max(sets):\n",
    "    return Max(sets)\n",
    "sets=([5,6,7,9,1,3,8,7])\n",
    "print(Max(sets))"
   ]
  }
 ],
 "metadata": {
  "kernelspec": {
   "display_name": "Python 3 (ipykernel)",
   "language": "python",
   "name": "python3"
  },
  "language_info": {
   "codemirror_mode": {
    "name": "ipython",
    "version": 3
   },
   "file_extension": ".py",
   "mimetype": "text/x-python",
   "name": "python",
   "nbconvert_exporter": "python",
   "pygments_lexer": "ipython3",
   "version": "3.9.7"
  }
 },
 "nbformat": 4,
 "nbformat_minor": 5
}
