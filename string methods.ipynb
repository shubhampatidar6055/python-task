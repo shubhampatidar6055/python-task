{
 "cells": [
  {
   "cell_type": "code",
   "execution_count": 15,
   "id": "65107a15",
   "metadata": {},
   "outputs": [
    {
     "name": "stdout",
     "output_type": "stream",
     "text": [
      "2\n"
     ]
    }
   ],
   "source": [
    "# count()method\n",
    "var=\"hello we are learning python\"\n",
    "print(var.count(\"o\"))"
   ]
  },
  {
   "cell_type": "code",
   "execution_count": 9,
   "id": "497b0ad8",
   "metadata": {},
   "outputs": [
    {
     "name": "stdout",
     "output_type": "stream",
     "text": [
      "3\n"
     ]
    }
   ],
   "source": [
    "var=\"hello we are learning python\"\n",
    "print(var.count(\"are\",7,20))"
   ]
  },
  {
   "cell_type": "code",
   "execution_count": 18,
   "id": "93dfff1a",
   "metadata": {},
   "outputs": [
    {
     "name": "stdout",
     "output_type": "stream",
     "text": [
      "2\n"
     ]
    }
   ],
   "source": [
    "var_1=[\"car\",\"bus\",\"train\"]\n",
    "var_2=sum(i.count(\"a\") for i in var_1)\n",
    "print(var_2)"
   ]
  },
  {
   "cell_type": "code",
   "execution_count": 21,
   "id": "99326c63",
   "metadata": {},
   "outputs": [
    {
     "name": "stdout",
     "output_type": "stream",
     "text": [
      "1\n"
     ]
    }
   ],
   "source": [
    "str_1=\"Honesty is the best policy\"\n",
    "print(str_1.count(\"e\",4,14))"
   ]
  },
  {
   "cell_type": "code",
   "execution_count": 26,
   "id": "5fe22a94",
   "metadata": {},
   "outputs": [
    {
     "name": "stdout",
     "output_type": "stream",
     "text": [
      "5\n"
     ]
    }
   ],
   "source": [
    "languages=(\"python\",\"java\",\"php\",\"cpp\")\n",
    "output=sum(i.count(\"p\")for i in languages)\n",
    "print(output)"
   ]
  },
  {
   "cell_type": "code",
   "execution_count": 34,
   "id": "67d2afeb",
   "metadata": {
    "scrolled": true
   },
   "outputs": [
    {
     "name": "stdout",
     "output_type": "stream",
     "text": [
      "True\n"
     ]
    }
   ],
   "source": [
    "#endswith()method\n",
    "txt=\"python string endswith method.\"\n",
    "output=txt.endswith(\"method.\")\n",
    "print(output)"
   ]
  },
  {
   "cell_type": "code",
   "execution_count": 19,
   "id": "400dfaba",
   "metadata": {},
   "outputs": [
    {
     "name": "stdout",
     "output_type": "stream",
     "text": [
      "True\n"
     ]
    }
   ],
   "source": [
    "txt=\"Hello welcome to jupiter\"\n",
    "output=txt.endswith(\"me\",5,13)\n",
    "print(output)"
   ]
  },
  {
   "cell_type": "code",
   "execution_count": 21,
   "id": "2ba164d2",
   "metadata": {},
   "outputs": [
    {
     "name": "stdout",
     "output_type": "stream",
     "text": [
      "Enter your email:svg@gmail.co\n",
      "invalid email\n"
     ]
    }
   ],
   "source": [
    "user_email=input(\"Enter your email:\")\n",
    "if user_email.endswith(\"@gmail.com\"):\n",
    "    print(\"Welcome to admin panel\")\n",
    "else:\n",
    "    print(\"invalid email\")"
   ]
  },
  {
   "cell_type": "code",
   "execution_count": 32,
   "id": "1168e0be",
   "metadata": {},
   "outputs": [
    {
     "name": "stdout",
     "output_type": "stream",
     "text": [
      "True\n"
     ]
    }
   ],
   "source": [
    "txt=\"Python is programming language\"\n",
    "output=txt.endswith((\"programming\",\"language\",\"python\"))\n",
    "print(output)"
   ]
  },
  {
   "cell_type": "code",
   "execution_count": 38,
   "id": "eb4b01c7",
   "metadata": {},
   "outputs": [
    {
     "name": "stdout",
     "output_type": "stream",
     "text": [
      "True\n"
     ]
    }
   ],
   "source": [
    "txt=\"Python is programming language\"\n",
    "result=txt.endswith((\"ing\"),6,21)\n",
    "print(result)"
   ]
  },
  {
   "cell_type": "code",
   "execution_count": 41,
   "id": "5508f5ba",
   "metadata": {},
   "outputs": [
    {
     "name": "stdout",
     "output_type": "stream",
     "text": [
      "h e l l o\n"
     ]
    }
   ],
   "source": [
    "#expandtabs()method\n",
    "txt=\"h\\te\\tl\\tl\\to\"\n",
    "result=txt.expandtabs(2)\n",
    "print(result)"
   ]
  },
  {
   "cell_type": "code",
   "execution_count": 45,
   "id": "cfd1e944",
   "metadata": {},
   "outputs": [
    {
     "name": "stdout",
     "output_type": "stream",
     "text": [
      "l         e         r         n         p         y         t         h         o         n\n"
     ]
    }
   ],
   "source": [
    "txt=\"l\\te\\tr\\tn \\tp\\ty\\tt\\th\\to\\tn\"\n",
    "out=txt.expandtabs(10)\n",
    "print(out)"
   ]
  },
  {
   "cell_type": "code",
   "execution_count": 53,
   "id": "bc8a2a3f",
   "metadata": {},
   "outputs": [
    {
     "name": "stdout",
     "output_type": "stream",
     "text": [
      "     center    \n"
     ]
    }
   ],
   "source": [
    "string=\"\\tcenter\\t\"\n",
    "print(string.expandtabs(5))"
   ]
  },
  {
   "cell_type": "code",
   "execution_count": 59,
   "id": "287f70a7",
   "metadata": {},
   "outputs": [
    {
     "name": "stdout",
     "output_type": "stream",
     "text": [
      "                     Hello               world\n"
     ]
    }
   ],
   "source": [
    "string=\"\\tHello\\tworld\"\n",
    "print(end=\" \")\n",
    "print(string.expandtabs(20))"
   ]
  },
  {
   "cell_type": "code",
   "execution_count": 60,
   "id": "cd617cf3",
   "metadata": {},
   "outputs": [
    {
     "name": "stdout",
     "output_type": "stream",
     "text": [
      "14\n"
     ]
    }
   ],
   "source": [
    "#find()method\n",
    "str_1=\"hello welcome to my world\"\n",
    "print(str_1.find(\"to\"))"
   ]
  },
  {
   "cell_type": "code",
   "execution_count": 63,
   "id": "6aae07b7",
   "metadata": {},
   "outputs": [
    {
     "name": "stdout",
     "output_type": "stream",
     "text": [
      "9\n"
     ]
    }
   ],
   "source": [
    "str_1=\"hello welcome to my world\"\n",
    "print(str_1.find('co',4,20))"
   ]
  },
  {
   "cell_type": "code",
   "execution_count": 65,
   "id": "70543db6",
   "metadata": {},
   "outputs": [
    {
     "name": "stdout",
     "output_type": "stream",
     "text": [
      "-1\n"
     ]
    }
   ],
   "source": [
    "txt=\"string in python\"\n",
    "print(txt.find(\"or\"))"
   ]
  },
  {
   "cell_type": "code",
   "execution_count": 66,
   "id": "b0069f5b",
   "metadata": {},
   "outputs": [
    {
     "name": "stdout",
     "output_type": "stream",
     "text": [
      "16\n"
     ]
    }
   ],
   "source": [
    "txt=\"we are learning python and python is easy to learn\"\n",
    "print(txt.find(\"python\"))"
   ]
  },
  {
   "cell_type": "code",
   "execution_count": 69,
   "id": "8aee3840",
   "metadata": {},
   "outputs": [
    {
     "name": "stdout",
     "output_type": "stream",
     "text": [
      "my name is raj and age is 26\n"
     ]
    }
   ],
   "source": [
    "#format()method\n",
    "txt=\"my name is {fname} and age is {age}\".format(fname=\"raj\",age=26)\n",
    "print(txt)"
   ]
  },
  {
   "cell_type": "code",
   "execution_count": 9,
   "id": "c0c6f7db",
   "metadata": {},
   "outputs": [
    {
     "name": "stdout",
     "output_type": "stream",
     "text": [
      "'programming'occurs 2 time\n"
     ]
    }
   ],
   "source": [
    "text = \"programming is fun, programming is creative\"\n",
    "new_txt=\"programming\"\n",
    "count=text.count(new_txt)\n",
    "print(f\"'{new_txt}'occurs {count} time\")"
   ]
  },
  {
   "cell_type": "code",
   "execution_count": 71,
   "id": "a203f5a8",
   "metadata": {},
   "outputs": [
    {
     "name": "stdout",
     "output_type": "stream",
     "text": [
      "welcome to the admin panel\n"
     ]
    }
   ],
   "source": [
    "my_str=\"{} to the {}{}\"\n",
    "print(my_str.format(\"welcome\",\"admin \",\"panel\"))"
   ]
  },
  {
   "cell_type": "code",
   "execution_count": 11,
   "id": "3d4717da",
   "metadata": {},
   "outputs": [
    {
     "name": "stdout",
     "output_type": "stream",
     "text": [
      "b'hello,world'\n"
     ]
    }
   ],
   "source": [
    "txt=\"hello,world\"\n",
    "new_txt=txt.encode()\n",
    "print(new_txt)"
   ]
  },
  {
   "cell_type": "code",
   "execution_count": 74,
   "id": "5a7dbc27",
   "metadata": {},
   "outputs": [
    {
     "name": "stdout",
     "output_type": "stream",
     "text": [
      "my avg of this semister was 78.25%\n"
     ]
    }
   ],
   "source": [
    "avg=\"my avg of this {0} was {1:.2f}%\".format(\"semister\",78.25)\n",
    "print(avg)"
   ]
  },
  {
   "cell_type": "code",
   "execution_count": 76,
   "id": "32517a6a",
   "metadata": {
    "scrolled": true
   },
   "outputs": [
    {
     "name": "stdout",
     "output_type": "stream",
     "text": [
      "The temp todayu is 36 degrees outside\n"
     ]
    }
   ],
   "source": [
    "temp=\"The temp todayu is {0:.0f} degrees outside\".format(35.540)\n",
    "print(temp)"
   ]
  },
  {
   "cell_type": "code",
   "execution_count": 46,
   "id": "9f8be15d",
   "metadata": {},
   "outputs": [
    {
     "name": "stdout",
     "output_type": "stream",
     "text": [
      "student name is kamal and address is vasant vihar\n"
     ]
    }
   ],
   "source": [
    "#format_map()method\n",
    "dic={\"name\":\"kamal\",\"add\":\"vasant vihar\"}\n",
    "print(\"student name is {name} and address is {add}\".format_map(dic))"
   ]
  },
  {
   "cell_type": "code",
   "execution_count": 80,
   "id": "8e555f82",
   "metadata": {},
   "outputs": [
    {
     "name": "stdout",
     "output_type": "stream",
     "text": [
      "2\n"
     ]
    }
   ],
   "source": [
    "#index()method\n",
    "txt=\"Django is a web framework\"\n",
    "print(txt.index(\"a\"))"
   ]
  },
  {
   "cell_type": "code",
   "execution_count": 81,
   "id": "cfe044b6",
   "metadata": {
    "scrolled": true
   },
   "outputs": [
    {
     "name": "stdout",
     "output_type": "stream",
     "text": [
      "10\n"
     ]
    }
   ],
   "source": [
    "txt=\"Django is a web framework\"\n",
    "print(txt.index(\"a\",5,12))"
   ]
  },
  {
   "cell_type": "code",
   "execution_count": 85,
   "id": "53e77c32",
   "metadata": {},
   "outputs": [
    {
     "name": "stdout",
     "output_type": "stream",
     "text": [
      "4\n"
     ]
    }
   ],
   "source": [
    "test_str=\"5432abc1236\"\n",
    "print(test_str.index(\"abc\",3,7))"
   ]
  },
  {
   "cell_type": "code",
   "execution_count": 4,
   "id": "9122659e",
   "metadata": {
    "scrolled": true
   },
   "outputs": [
    {
     "name": "stdout",
     "output_type": "stream",
     "text": [
      "[6, 20, 29]\n"
     ]
    }
   ],
   "source": [
    "test=\"Hello world welcome to admin panel\"\n",
    "sub_str=[\"world\",\"to\",\"panel\"]\n",
    "indices=[test.index(i) for i in sub_str]\n",
    "print(indices)"
   ]
  },
  {
   "cell_type": "code",
   "execution_count": 6,
   "id": "38d6b933",
   "metadata": {},
   "outputs": [
    {
     "ename": "ValueError",
     "evalue": "substring not found",
     "output_type": "error",
     "traceback": [
      "\u001b[1;31m---------------------------------------------------------------------------\u001b[0m",
      "\u001b[1;31mValueError\u001b[0m                                Traceback (most recent call last)",
      "\u001b[1;32m~\\AppData\\Local\\Temp/ipykernel_1288/1179709710.py\u001b[0m in \u001b[0;36m<module>\u001b[1;34m\u001b[0m\n\u001b[0;32m      1\u001b[0m \u001b[0mtest\u001b[0m\u001b[1;33m=\u001b[0m\u001b[1;34m\"Hello world welcome to admin panel\"\u001b[0m\u001b[1;33m\u001b[0m\u001b[1;33m\u001b[0m\u001b[0m\n\u001b[1;32m----> 2\u001b[1;33m \u001b[0mprint\u001b[0m\u001b[1;33m(\u001b[0m\u001b[0mtest\u001b[0m\u001b[1;33m.\u001b[0m\u001b[0mindex\u001b[0m\u001b[1;33m(\u001b[0m\u001b[1;34m\"q\"\u001b[0m\u001b[1;33m)\u001b[0m\u001b[1;33m)\u001b[0m\u001b[1;33m\u001b[0m\u001b[1;33m\u001b[0m\u001b[0m\n\u001b[0m",
      "\u001b[1;31mValueError\u001b[0m: substring not found"
     ]
    }
   ],
   "source": [
    "test=\"Hello world welcome to admin panel\"\n",
    "print(test.index(\"q\"))"
   ]
  },
  {
   "cell_type": "code",
   "execution_count": 38,
   "id": "fdd01da8",
   "metadata": {},
   "outputs": [
    {
     "name": "stdout",
     "output_type": "stream",
     "text": [
      "3\n"
     ]
    }
   ],
   "source": [
    "#rindex()method\n",
    "text=\"Hello\"\n",
    "print(text.rindex(\"l\"))"
   ]
  },
  {
   "cell_type": "code",
   "execution_count": 7,
   "id": "802805ba",
   "metadata": {},
   "outputs": [
    {
     "name": "stdout",
     "output_type": "stream",
     "text": [
      "H-e-l-l-o\n"
     ]
    }
   ],
   "source": [
    "#join()method\n",
    "str_1=\"-\".join(\"Hello\")\n",
    "print(str_1)"
   ]
  },
  {
   "cell_type": "code",
   "execution_count": 10,
   "id": "c8dee92d",
   "metadata": {},
   "outputs": [
    {
     "name": "stdout",
     "output_type": "stream",
     "text": [
      "python\n"
     ]
    }
   ],
   "source": [
    "test=[\"p\",\"y\",\"t\",\"h\",\"o\",\"n\"]\n",
    "print(\"\".join(test))"
   ]
  },
  {
   "cell_type": "code",
   "execution_count": 14,
   "id": "87b47d48",
   "metadata": {
    "scrolled": true
   },
   "outputs": [
    {
     "name": "stdout",
     "output_type": "stream",
     "text": [
      "1-2-3-4\n"
     ]
    }
   ],
   "source": [
    "list_1=[\"1\",\"2\",\"3\",\"4\"]\n",
    "s=\"-\"\n",
    "new_str=s.join(list_1)\n",
    "print(new_str)"
   ]
  },
  {
   "cell_type": "code",
   "execution_count": 20,
   "id": "672bbe00",
   "metadata": {},
   "outputs": [
    {
     "ename": "TypeError",
     "evalue": "sequence item 0: expected str instance, int found",
     "output_type": "error",
     "traceback": [
      "\u001b[1;31m---------------------------------------------------------------------------\u001b[0m",
      "\u001b[1;31mTypeError\u001b[0m                                 Traceback (most recent call last)",
      "\u001b[1;32m~\\AppData\\Local\\Temp/ipykernel_1288/1747364238.py\u001b[0m in \u001b[0;36m<module>\u001b[1;34m\u001b[0m\n\u001b[0;32m      1\u001b[0m \u001b[0mdic\u001b[0m\u001b[1;33m=\u001b[0m\u001b[1;33m{\u001b[0m\u001b[1;36m1\u001b[0m\u001b[1;33m:\u001b[0m\u001b[1;34m\"python\"\u001b[0m\u001b[1;33m,\u001b[0m \u001b[1;36m2\u001b[0m\u001b[1;33m:\u001b[0m\u001b[1;34m\"for\"\u001b[0m\u001b[1;33m,\u001b[0m \u001b[1;36m3\u001b[0m\u001b[1;33m:\u001b[0m\u001b[1;34m\"datascience\"\u001b[0m\u001b[1;33m}\u001b[0m\u001b[1;33m\u001b[0m\u001b[1;33m\u001b[0m\u001b[0m\n\u001b[0;32m      2\u001b[0m \u001b[0ms\u001b[0m\u001b[1;33m=\u001b[0m\u001b[1;34m'_'\u001b[0m\u001b[1;33m\u001b[0m\u001b[1;33m\u001b[0m\u001b[0m\n\u001b[1;32m----> 3\u001b[1;33m \u001b[0mprint\u001b[0m\u001b[1;33m(\u001b[0m\u001b[0ms\u001b[0m\u001b[1;33m.\u001b[0m\u001b[0mjoin\u001b[0m\u001b[1;33m(\u001b[0m\u001b[0mdic\u001b[0m\u001b[1;33m)\u001b[0m\u001b[1;33m)\u001b[0m\u001b[1;33m\u001b[0m\u001b[1;33m\u001b[0m\u001b[0m\n\u001b[0m",
      "\u001b[1;31mTypeError\u001b[0m: sequence item 0: expected str instance, int found"
     ]
    }
   ],
   "source": [
    "dic={1:\"python\", 2:\"for\", 3:\"datascience\"}\n",
    "s='_'\n",
    "print(s.join(dic))"
   ]
  },
  {
   "cell_type": "code",
   "execution_count": 21,
   "id": "12f1ff6e",
   "metadata": {},
   "outputs": [
    {
     "name": "stdout",
     "output_type": "stream",
     "text": [
      "python_for_datascience\n"
     ]
    }
   ],
   "source": [
    "dic={\"python\":1,\"for\":2,\"datascience\":3}\n",
    "s=\"_\"\n",
    "print(s.join(dic))"
   ]
  },
  {
   "cell_type": "code",
   "execution_count": 22,
   "id": "2e0e8be0",
   "metadata": {},
   "outputs": [
    {
     "name": "stdout",
     "output_type": "stream",
     "text": [
      "True\n"
     ]
    }
   ],
   "source": [
    "#isalpha()method\n",
    "str_1=\"Indore\"\n",
    "print(str_1.isalpha())"
   ]
  },
  {
   "cell_type": "code",
   "execution_count": 23,
   "id": "25d3b068",
   "metadata": {},
   "outputs": [
    {
     "name": "stdout",
     "output_type": "stream",
     "text": [
      "False\n"
     ]
    }
   ],
   "source": [
    "str_1=\"Alexa012\"\n",
    "print(str_1.isalpha())"
   ]
  },
  {
   "cell_type": "code",
   "execution_count": 24,
   "id": "e32bbe1f",
   "metadata": {},
   "outputs": [
    {
     "name": "stdout",
     "output_type": "stream",
     "text": [
      "False\n"
     ]
    }
   ],
   "source": [
    "str_1=\"\"\n",
    "print(str_1.isalpha())"
   ]
  },
  {
   "cell_type": "code",
   "execution_count": 25,
   "id": "4a43023d",
   "metadata": {},
   "outputs": [
    {
     "name": "stdout",
     "output_type": "stream",
     "text": [
      "False\n"
     ]
    }
   ],
   "source": [
    "alpha=\"abc*xyz\"\n",
    "print(alpha.isalpha())"
   ]
  },
  {
   "cell_type": "code",
   "execution_count": 35,
   "id": "9b5f2f46",
   "metadata": {},
   "outputs": [
    {
     "name": "stdout",
     "output_type": "stream",
     "text": [
      "False\n"
     ]
    }
   ],
   "source": [
    "#isspace()method\n",
    "test='Python anywhere'\n",
    "result=test.isspace()\n",
    "print(result)"
   ]
  },
  {
   "cell_type": "code",
   "execution_count": 34,
   "id": "7ecc89bb",
   "metadata": {},
   "outputs": [
    {
     "name": "stdout",
     "output_type": "stream",
     "text": [
      "True\n"
     ]
    }
   ],
   "source": [
    "string=\"\\n \\n \\n\"\n",
    "print(string.isspace())"
   ]
  },
  {
   "cell_type": "code",
   "execution_count": 39,
   "id": "7faf726a",
   "metadata": {},
   "outputs": [
    {
     "name": "stdout",
     "output_type": "stream",
     "text": [
      "5\n"
     ]
    }
   ],
   "source": [
    "string='hello world\\n\\n\\n\\n'\n",
    "count=0\n",
    "for i in string:\n",
    "    if (i.isspace()==True):\n",
    "        count+=1\n",
    "print(count)"
   ]
  },
  {
   "cell_type": "code",
   "execution_count": 45,
   "id": "7a4f2194",
   "metadata": {},
   "outputs": [
    {
     "name": "stdout",
     "output_type": "stream",
     "text": [
      "we are                 learning python\n"
     ]
    }
   ],
   "source": [
    "#ljust()method\n",
    "string=\"we are\"\n",
    "a=string.ljust(22)\n",
    "print(a,\"learning python\")"
   ]
  },
  {
   "cell_type": "code",
   "execution_count": 49,
   "id": "116c218a",
   "metadata": {},
   "outputs": [
    {
     "name": "stdout",
     "output_type": "stream",
     "text": [
      "Pythonoooo\n"
     ]
    }
   ],
   "source": [
    "txt=\"Python\"\n",
    "x=txt.ljust(10,\"o\")\n",
    "print(x)"
   ]
  },
  {
   "cell_type": "code",
   "execution_count": 2,
   "id": "fd9df097",
   "metadata": {
    "scrolled": true
   },
   "outputs": [
    {
     "name": "stdout",
     "output_type": "stream",
     "text": [
      "         python\n"
     ]
    }
   ],
   "source": [
    "txt=\"python\"\n",
    "x=txt.rjust(15)\n",
    "print(x)"
   ]
  },
  {
   "cell_type": "code",
   "execution_count": 3,
   "id": "0b531068",
   "metadata": {},
   "outputs": [
    {
     "name": "stdout",
     "output_type": "stream",
     "text": [
      "oooooooooDjango\n"
     ]
    }
   ],
   "source": [
    "txt=\"Django\"\n",
    "x=txt.rjust(15,\"o\")\n",
    "print(x)"
   ]
  },
  {
   "cell_type": "code",
   "execution_count": 8,
   "id": "f0b3237e",
   "metadata": {},
   "outputs": [
    {
     "name": "stdout",
     "output_type": "stream",
     "text": [
      "Hello World\n"
     ]
    }
   ],
   "source": [
    "#title()method\n",
    "string=\"hello world\"\n",
    "print(string.title())"
   ]
  },
  {
   "cell_type": "code",
   "execution_count": 11,
   "id": "9c11fe8e",
   "metadata": {},
   "outputs": [
    {
     "name": "stdout",
     "output_type": "stream",
     "text": [
      "string follows the rule of title\n"
     ]
    }
   ],
   "source": [
    "string=\"Bhopal Is City Of Lake\"\n",
    "if string.istitle() == True:\n",
    "    print(\"string follows the rule of title\")\n",
    "else:\n",
    "    print(\"string doesn't follows the rule of title\")"
   ]
  },
  {
   "cell_type": "code",
   "execution_count": 12,
   "id": "d3b73d51",
   "metadata": {},
   "outputs": [
    {
     "name": "stdout",
     "output_type": "stream",
     "text": [
      "BHOPAL IS CITY OF LAKE\n"
     ]
    }
   ],
   "source": [
    "string=\"bhopal is city of lake\"\n",
    "print(string.upper())"
   ]
  },
  {
   "cell_type": "code",
   "execution_count": 13,
   "id": "6f81886b",
   "metadata": {},
   "outputs": [
    {
     "name": "stdout",
     "output_type": "stream",
     "text": [
      "BHOPAL IS CITY OF LAKE\n"
     ]
    }
   ],
   "source": [
    "string=\"bhopal is city of lake\"\n",
    "if string.isupper == True:\n",
    "    print(\"String is in upper case\")\n",
    "else:\n",
    "    new_string=string.upper()\n",
    "print(new_string)"
   ]
  },
  {
   "cell_type": "code",
   "execution_count": 39,
   "id": "70a59112",
   "metadata": {},
   "outputs": [
    {
     "name": "stdout",
     "output_type": "stream",
     "text": [
      "Name            Age     City\n",
      "John            25      New York\n",
      "Alice           30      Los Angeles\n"
     ]
    }
   ],
   "source": [
    "table = \"Name\\t\\tAge\\tCity\\nJohn\\t\\t25\\tNew York\\nAlice\\t\\t30\\tLos Angeles\"\n",
    "out=table.expandtabs()\n",
    "print(out)"
   ]
  },
  {
   "cell_type": "code",
   "execution_count": 40,
   "id": "c87b1521",
   "metadata": {},
   "outputs": [
    {
     "name": "stdout",
     "output_type": "stream",
     "text": [
      "dlrow olleh\n"
     ]
    }
   ],
   "source": [
    "txt=\"hello world\"\n",
    "txt=txt[::-1]\n",
    "print(txt)"
   ]
  },
  {
   "cell_type": "code",
   "execution_count": 16,
   "id": "0a34a68d",
   "metadata": {},
   "outputs": [
    {
     "name": "stdout",
     "output_type": "stream",
     "text": [
      "True\n"
     ]
    }
   ],
   "source": [
    "#isidentifire()method\n",
    "txt=\"helloworld\"\n",
    "x=txt.isidentifier()\n",
    "print(x)"
   ]
  },
  {
   "cell_type": "code",
   "execution_count": 17,
   "id": "58b80dbe",
   "metadata": {},
   "outputs": [
    {
     "name": "stdout",
     "output_type": "stream",
     "text": [
      "True\n"
     ]
    }
   ],
   "source": [
    "text=\"hello2world5\"\n",
    "x=text.isidentifier()\n",
    "print(x)"
   ]
  },
  {
   "cell_type": "code",
   "execution_count": 23,
   "id": "c894a341",
   "metadata": {},
   "outputs": [
    {
     "name": "stdout",
     "output_type": "stream",
     "text": [
      "False\n"
     ]
    }
   ],
   "source": [
    "txt=\"\"\n",
    "x=txt.isidentifier()\n",
    "print(x)"
   ]
  },
  {
   "cell_type": "code",
   "execution_count": 33,
   "id": "5798aecd",
   "metadata": {
    "scrolled": true
   },
   "outputs": [
    {
     "name": "stdout",
     "output_type": "stream",
     "text": [
      "False\n"
     ]
    }
   ],
   "source": [
    "txt=\"my#file@\"\n",
    "x=txt.isidentifier()\n",
    "print(x)"
   ]
  },
  {
   "cell_type": "code",
   "execution_count": 41,
   "id": "c92d0ac0",
   "metadata": {},
   "outputs": [
    {
     "name": "stdout",
     "output_type": "stream",
     "text": [
      "Hello\n"
     ]
    }
   ],
   "source": [
    "#strip()method\n",
    "text=\"     Hello     \"\n",
    "x=text.strip()\n",
    "print(x)"
   ]
  },
  {
   "cell_type": "code",
   "execution_count": 42,
   "id": "296dd59f",
   "metadata": {},
   "outputs": [
    {
     "name": "stdout",
     "output_type": "stream",
     "text": [
      "hello   world\n"
     ]
    }
   ],
   "source": [
    "string=\"    hello   world   \"\n",
    "x=string.strip()\n",
    "print(x)"
   ]
  },
  {
   "cell_type": "code",
   "execution_count": 43,
   "id": "d6746423",
   "metadata": {
    "scrolled": true
   },
   "outputs": [
    {
     "name": "stdout",
     "output_type": "stream",
     "text": [
      " world \n"
     ]
    }
   ],
   "source": [
    "txt=\"hello world hello\"\n",
    "x=txt.strip(\"hello\")\n",
    "print(x)"
   ]
  },
  {
   "cell_type": "code",
   "execution_count": 54,
   "id": "4e9037c8",
   "metadata": {},
   "outputs": [
    {
     "name": "stdout",
     "output_type": "stream",
     "text": [
      "hello world he\n"
     ]
    }
   ],
   "source": [
    "txt=\"hello world hello\"\n",
    "x=txt.strip(\"lo\")\n",
    "print(x)"
   ]
  },
  {
   "cell_type": "code",
   "execution_count": 57,
   "id": "5f14ebba",
   "metadata": {},
   "outputs": [
    {
     "name": "stdout",
     "output_type": "stream",
     "text": [
      "hello\n"
     ]
    }
   ],
   "source": [
    "#lstrip()method\n",
    "string=\"    hello\"\n",
    "x=string.strip()\n",
    "print(x)"
   ]
  },
  {
   "cell_type": "code",
   "execution_count": 62,
   "id": "ffb0884c",
   "metadata": {
    "scrolled": true
   },
   "outputs": [
    {
     "name": "stdout",
     "output_type": "stream",
     "text": [
      "hello world\n"
     ]
    }
   ],
   "source": [
    "string=\"#######@@@@hello world\"\n",
    "x=string.lstrip(\"@#\")\n",
    "print(x)"
   ]
  },
  {
   "cell_type": "code",
   "execution_count": 63,
   "id": "751734df",
   "metadata": {},
   "outputs": [
    {
     "name": "stdout",
     "output_type": "stream",
     "text": [
      "llo world hello\n"
     ]
    }
   ],
   "source": [
    "txt=\"hello world hello\"\n",
    "x=txt.lstrip(\"he\")\n",
    "print(x)"
   ]
  },
  {
   "cell_type": "code",
   "execution_count": 67,
   "id": "a4ef105f",
   "metadata": {},
   "outputs": [
    {
     "name": "stdout",
     "output_type": "stream",
     "text": [
      "hello world hello  \n"
     ]
    }
   ],
   "source": [
    "#rstrip()method\n",
    "txt=\"hello world hello  gggggggg\"\n",
    "x=txt.rstrip(\"g\")\n",
    "print(x)"
   ]
  },
  {
   "cell_type": "code",
   "execution_count": 70,
   "id": "6dd4ecf3",
   "metadata": {},
   "outputs": [
    {
     "name": "stdout",
     "output_type": "stream",
     "text": [
      "['one', 'two', 'three']\n"
     ]
    }
   ],
   "source": [
    "#split()method\n",
    "string=\"one two three\"\n",
    "x=string.split()\n",
    "print(x)"
   ]
  },
  {
   "cell_type": "code",
   "execution_count": 73,
   "id": "f0a639b0",
   "metadata": {
    "scrolled": true
   },
   "outputs": [
    {
     "name": "stdout",
     "output_type": "stream",
     "text": [
      "['Hello', 'World']\n"
     ]
    }
   ],
   "source": [
    "text=\"Hello:World\"\n",
    "print(text.split(':'))"
   ]
  },
  {
   "cell_type": "code",
   "execution_count": 75,
   "id": "b32ef3b3",
   "metadata": {},
   "outputs": [
    {
     "name": "stdout",
     "output_type": "stream",
     "text": [
      "['We', 'are', 'learning', 'python']\n"
     ]
    }
   ],
   "source": [
    "text=\"We are learning python\"\n",
    "new_text=text.split()\n",
    "print(new_text)"
   ]
  },
  {
   "cell_type": "code",
   "execution_count": 77,
   "id": "0f4d1c49",
   "metadata": {},
   "outputs": [
    {
     "name": "stdout",
     "output_type": "stream",
     "text": [
      "['tic', 'tac', 'toe']\n"
     ]
    }
   ],
   "source": [
    "#rsplit()method\n",
    "text=\"tic-tac-toe\"\n",
    "x=text.rsplit('-')\n",
    "print(x)"
   ]
  },
  {
   "cell_type": "code",
   "execution_count": 85,
   "id": "cf1992fb",
   "metadata": {
    "scrolled": true
   },
   "outputs": [
    {
     "name": "stdout",
     "output_type": "stream",
     "text": [
      "['tic@tac', 'toe']\n"
     ]
    }
   ],
   "source": [
    "string=\"tic@tac@toe\"\n",
    "out=string.rsplit('@',1)\n",
    "print(out)"
   ]
  },
  {
   "cell_type": "code",
   "execution_count": 13,
   "id": "3e4e3f5f",
   "metadata": {},
   "outputs": [
    {
     "name": "stdout",
     "output_type": "stream",
     "text": [
      "('The universe ', 'is', ' huge')\n"
     ]
    }
   ],
   "source": [
    "#partition()method\n",
    "string=\"The universe is huge\"\n",
    "print(string.partition(\"is\"))"
   ]
  },
  {
   "cell_type": "code",
   "execution_count": 22,
   "id": "205afae4",
   "metadata": {},
   "outputs": [
    {
     "name": "stdout",
     "output_type": "stream",
     "text": [
      "('The universe is huge,The universe is ', 'huge', '')\n"
     ]
    }
   ],
   "source": [
    "#rpartition()method\n",
    "string=\"The universe is huge,The universe is huge\"\n",
    "print(string.rpartition(\"huge\"))"
   ]
  },
  {
   "cell_type": "code",
   "execution_count": 27,
   "id": "ec68d7ac",
   "metadata": {},
   "outputs": [
    {
     "name": "stdout",
     "output_type": "stream",
     "text": [
      "0000google\n"
     ]
    }
   ],
   "source": [
    "#zfill()method\n",
    "text=\"google\"\n",
    "print(text.zfill(10))"
   ]
  },
  {
   "cell_type": "code",
   "execution_count": 28,
   "id": "974a9c10",
   "metadata": {},
   "outputs": [
    {
     "name": "stdout",
     "output_type": "stream",
     "text": [
      "TaTa cONSELTENCY sERVICE\n"
     ]
    }
   ],
   "source": [
    "#swapcase()method\n",
    "company=\"tAtA Conseltency Service\"\n",
    "print(company.swapcase())"
   ]
  },
  {
   "cell_type": "code",
   "execution_count": 34,
   "id": "d1f63b95",
   "metadata": {
    "scrolled": true
   },
   "outputs": [
    {
     "name": "stdout",
     "output_type": "stream",
     "text": [
      "['splitline method', ' split the line']\n"
     ]
    }
   ],
   "source": [
    "#splitlines()method\n",
    "text=\"splitline method\\n split the line\"\n",
    "print(text.splitlines())"
   ]
  },
  {
   "cell_type": "code",
   "execution_count": 40,
   "id": "251809c7",
   "metadata": {},
   "outputs": [
    {
     "name": "stdout",
     "output_type": "stream",
     "text": [
      "Python is everywhere \n"
     ]
    }
   ],
   "source": [
    "#replace()method\n",
    "string=\"Python are everywhere \"\n",
    "print(string.replace(\"are\",\"is\"))"
   ]
  },
  {
   "cell_type": "code",
   "execution_count": 50,
   "id": "add5eaa8",
   "metadata": {},
   "outputs": [
    {
     "name": "stdout",
     "output_type": "stream",
     "text": [
      "{104: 97, 101: 98, 108: 99}\n"
     ]
    }
   ],
   "source": [
    "#maketrans()method\n",
    "txt=\"hello\"\n",
    "out=txt.maketrans('hel','abc')\n",
    "print(out)"
   ]
  },
  {
   "cell_type": "code",
   "execution_count": 51,
   "id": "9485f2f7",
   "metadata": {},
   "outputs": [
    {
     "name": "stdout",
     "output_type": "stream",
     "text": [
      "abcco\n"
     ]
    }
   ],
   "source": [
    "#translate()method\n",
    "print(txt.translate(out))"
   ]
  }
 ],
 "metadata": {
  "kernelspec": {
   "display_name": "Python 3 (ipykernel)",
   "language": "python",
   "name": "python3"
  },
  "language_info": {
   "codemirror_mode": {
    "name": "ipython",
    "version": 3
   },
   "file_extension": ".py",
   "mimetype": "text/x-python",
   "name": "python",
   "nbconvert_exporter": "python",
   "pygments_lexer": "ipython3",
   "version": "3.9.7"
  }
 },
 "nbformat": 4,
 "nbformat_minor": 5
}
