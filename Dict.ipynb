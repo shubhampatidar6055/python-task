{
 "cells": [
  {
   "cell_type": "code",
   "execution_count": 39,
   "id": "35ef6562",
   "metadata": {},
   "outputs": [
    {
     "name": "stdout",
     "output_type": "stream",
     "text": [
      "dict_items([(1, 105), (2, 106), (3, 107), (4, 108)])\n",
      "{1: 105, 3: 107, 4: 108}\n"
     ]
    }
   ],
   "source": [
    "dict_1={1:105,2:106,3:107,4:108}\n",
    "result=dict_1.items()\n",
    "print(result)\n",
    "del [dict_1[2]]\n",
    "print(dict_1)"
   ]
  },
  {
   "cell_type": "code",
   "execution_count": 3,
   "id": "0414f35e",
   "metadata": {},
   "outputs": [
    {
     "name": "stdout",
     "output_type": "stream",
     "text": [
      "text is :- {}\n"
     ]
    }
   ],
   "source": [
    "#clear()method\n",
    "text={1:\"amay\",2:\"arjun\"}\n",
    "text.clear()\n",
    "print(\"text is :-\",text)"
   ]
  },
  {
   "cell_type": "code",
   "execution_count": 6,
   "id": "66b10cc8",
   "metadata": {
    "scrolled": true
   },
   "outputs": [
    {
     "name": "stdout",
     "output_type": "stream",
     "text": [
      "{}\n"
     ]
    }
   ],
   "source": [
    "text={\n",
    "    \"name\":\"raman\",\n",
    "    \"add\":\"ujjain\",\n",
    "    \"mob\":9893897651\n",
    "}\n",
    "text.clear()\n",
    "print(text)"
   ]
  },
  {
   "cell_type": "code",
   "execution_count": 7,
   "id": "9ebf01fe",
   "metadata": {},
   "outputs": [
    {
     "name": "stdout",
     "output_type": "stream",
     "text": [
      "{'name': 'raman', 'add': 'ujjain', 'mob': 9893897651}\n"
     ]
    }
   ],
   "source": [
    "#copy()method\n",
    "text={\n",
    "    \"name\":\"raman\",\n",
    "    \"add\":\"ujjain\",\n",
    "    \"mob\":9893897651\n",
    "}\n",
    "text_2=text.copy()\n",
    "print(text_2)"
   ]
  },
  {
   "cell_type": "code",
   "execution_count": 8,
   "id": "ed19f6a0",
   "metadata": {},
   "outputs": [
    {
     "name": "stdout",
     "output_type": "stream",
     "text": [
      "{1: 'amay', 2: 'arjun'}\n"
     ]
    }
   ],
   "source": [
    "text={1:\"amay\",2:\"arjun\"}\n",
    "text_2=text.copy()\n",
    "print(text_2)"
   ]
  },
  {
   "cell_type": "code",
   "execution_count": 11,
   "id": "e8723a50",
   "metadata": {},
   "outputs": [
    {
     "name": "stdout",
     "output_type": "stream",
     "text": [
      "{7: 'nothing', 8: 'nothing', 9: 'nothing', 0: 'nothing'}\n"
     ]
    }
   ],
   "source": [
    "#formkeys()method\n",
    "seq=(7,8,9,0)\n",
    "fk=dict.fromkeys(seq,\"nothing\")\n",
    "print(fk)"
   ]
  },
  {
   "cell_type": "code",
   "execution_count": 19,
   "id": "85d9ffdf",
   "metadata": {},
   "outputs": [
    {
     "name": "stdout",
     "output_type": "stream",
     "text": [
      "{'Name': None, 'Age': None, 'Blood Group': None}\n"
     ]
    }
   ],
   "source": [
    "seq=[\"Name\",\"Age\",\"Blood Group\"]\n",
    "dic={}\n",
    "final_result=dic.fromkeys(seq)\n",
    "print(final_result)"
   ]
  },
  {
   "cell_type": "code",
   "execution_count": 2,
   "id": "cc67ec3b",
   "metadata": {},
   "outputs": [
    {
     "name": "stdout",
     "output_type": "stream",
     "text": [
      "{'Price': None, 'Product': None, 'Design': None}\n"
     ]
    }
   ],
   "source": [
    "seq={\"Product\",\"Design\",\"Price\"}\n",
    "final_result=dict.fromkeys(seq)\n",
    "print(final_result)"
   ]
  },
  {
   "cell_type": "code",
   "execution_count": 3,
   "id": "10179600",
   "metadata": {},
   "outputs": [
    {
     "name": "stdout",
     "output_type": "stream",
     "text": [
      "{'c': [1, 2], 'b': [1, 2], 'a': [1, 2], 'd': [1, 2]}\n"
     ]
    }
   ],
   "source": [
    "seq={\"a\",\"b\",\"c\",\"d\"}\n",
    "list_1=[1,2]\n",
    "final_result=dict.fromkeys(seq,list_1)\n",
    "print(final_result)"
   ]
  },
  {
   "cell_type": "code",
   "execution_count": 6,
   "id": "fd3ffb07",
   "metadata": {
    "scrolled": true
   },
   "outputs": [
    {
     "name": "stdout",
     "output_type": "stream",
     "text": [
      "{0: [], 1: [], 2: [], 3: []}\n"
     ]
    }
   ],
   "source": [
    "new_dict=dict.fromkeys(range(4),[])\n",
    "print(new_dict)"
   ]
  },
  {
   "cell_type": "code",
   "execution_count": 5,
   "id": "a1100fad",
   "metadata": {},
   "outputs": [
    {
     "name": "stdout",
     "output_type": "stream",
     "text": [
      "ford\n",
      "1964\n"
     ]
    }
   ],
   "source": [
    "#get()method\n",
    "car={\n",
    "    \"brand\":\"ford\",\n",
    "    \"model\":\"mustang\",\n",
    "    \"year\":1964\n",
    "}\n",
    "result_1=car.get(\"brand\")\n",
    "result_2=car.get(\"year\")\n",
    "print(result_1)\n",
    "print(result_2)"
   ]
  },
  {
   "cell_type": "code",
   "execution_count": 10,
   "id": "e7e67bbd",
   "metadata": {},
   "outputs": [
    {
     "name": "stdout",
     "output_type": "stream",
     "text": [
      "best\n"
     ]
    }
   ],
   "source": [
    "test={\"python\":{\"is\":\"best\"}}\n",
    "result=test.get(\"python\").get(\"is\")\n",
    "print(result)"
   ]
  },
  {
   "cell_type": "code",
   "execution_count": 15,
   "id": "1a5ca006",
   "metadata": {},
   "outputs": [
    {
     "name": "stdout",
     "output_type": "stream",
     "text": [
      "not found\n"
     ]
    }
   ],
   "source": [
    "dict_1={1:101,2:102,3:103,4:104}\n",
    "result=dict_1.get(5,\"not found\")\n",
    "print(result)"
   ]
  },
  {
   "cell_type": "code",
   "execution_count": 16,
   "id": "ead1db4d",
   "metadata": {},
   "outputs": [
    {
     "name": "stdout",
     "output_type": "stream",
     "text": [
      "java\n"
     ]
    }
   ],
   "source": [
    "languages={\n",
    "    1:\"java\",\n",
    "    2:\"python\",\n",
    "    3:\"php\"\n",
    "}\n",
    "result=languages.get(1)\n",
    "print(result)"
   ]
  },
  {
   "cell_type": "code",
   "execution_count": 23,
   "id": "c053ac5e",
   "metadata": {},
   "outputs": [
    {
     "name": "stdout",
     "output_type": "stream",
     "text": [
      "dict_items([('brand', 'ford'), ('model', 'mustang'), ('year', 1984)])\n"
     ]
    }
   ],
   "source": [
    "#items()method\n",
    "car={\n",
    "    \"brand\":\"ford\",\n",
    "    \"model\":\"mustang\",\n",
    "    \"year\":1984\n",
    "}\n",
    "result=car.items()\n",
    "print(result)"
   ]
  },
  {
   "cell_type": "code",
   "execution_count": 24,
   "id": "bdc3b884",
   "metadata": {},
   "outputs": [
    {
     "name": "stdout",
     "output_type": "stream",
     "text": [
      "dict_items([(1, 'java'), (2, 'python'), (3, 'php')])\n"
     ]
    }
   ],
   "source": [
    "languages={\n",
    "    1:\"java\",\n",
    "    2:\"python\",\n",
    "    3:\"php\"\n",
    "}\n",
    "result=languages.items()\n",
    "print(result)"
   ]
  },
  {
   "cell_type": "code",
   "execution_count": 38,
   "id": "334f4284",
   "metadata": {},
   "outputs": [
    {
     "name": "stdout",
     "output_type": "stream",
     "text": [
      "dict_items([(1, 105), (2, 106), (3, 107), (4, 108)])\n",
      "{1: 105, 3: 107, 4: 108}\n"
     ]
    }
   ],
   "source": [
    "dict_1={1:105,2:106,3:107,4:108}\n",
    "result=dict_1.items()\n",
    "print(result)\n",
    "del [dict_1[2]]\n",
    "print(dict_1)"
   ]
  },
  {
   "cell_type": "code",
   "execution_count": 42,
   "id": "78d87604",
   "metadata": {},
   "outputs": [
    {
     "name": "stdout",
     "output_type": "stream",
     "text": [
      "dict_items([('a', 'mango'), ('b', 'apple'), ('c', 'grapes')])\n",
      "{'a': 'mango', 'b': 'apple', 'c': 'kivi'}\n"
     ]
    }
   ],
   "source": [
    "fruits={\n",
    "    \"a\":\"mango\",\n",
    "    \"b\":\"apple\",\n",
    "    \"c\":\"grapes\"\n",
    "}\n",
    "out=fruits.items()\n",
    "print(out)\n",
    "fruits[\"c\"]=\"kivi\"\n",
    "print(fruits)"
   ]
  },
  {
   "cell_type": "code",
   "execution_count": 46,
   "id": "ee8d7cdf",
   "metadata": {},
   "outputs": [
    {
     "name": "stdout",
     "output_type": "stream",
     "text": [
      "dict_keys(['a', 'b', 'c'])\n"
     ]
    }
   ],
   "source": [
    "#keys()method\n",
    "fruits={\n",
    "    \"a\":\"mango\",\n",
    "    \"b\":\"apple\",\n",
    "    \"c\":\"grapes\"\n",
    "}\n",
    "result=fruits.keys()\n",
    "print(result)"
   ]
  },
  {
   "cell_type": "code",
   "execution_count": 55,
   "id": "0f880b04",
   "metadata": {
    "scrolled": true
   },
   "outputs": [
    {
     "name": "stdout",
     "output_type": "stream",
     "text": [
      "dict_keys(['A', 'B', 'C'])\n"
     ]
    }
   ],
   "source": [
    "dict_1={\n",
    "    \"A\":\"python\",\n",
    "    \"B\":\"is\",\n",
    "    \"C\":\"best\"\n",
    "}\n",
    "output=dict_1.keys()\n",
    "print(output)"
   ]
  },
  {
   "cell_type": "code",
   "execution_count": 56,
   "id": "4a9bc386",
   "metadata": {},
   "outputs": [
    {
     "name": "stdout",
     "output_type": "stream",
     "text": [
      "dict_keys(['brand', 'model', 'year'])\n"
     ]
    }
   ],
   "source": [
    "car = {\n",
    "  \"brand\": \"Ford\",\n",
    "  \"model\": \"Endevour\",\n",
    "  \"year\": 1964\n",
    "}\n",
    "result=car.keys()\n",
    "print(result)"
   ]
  },
  {
   "cell_type": "code",
   "execution_count": 57,
   "id": "6c2efd12",
   "metadata": {},
   "outputs": [
    {
     "name": "stdout",
     "output_type": "stream",
     "text": [
      "dict_keys([1, 2, 3, 4])\n"
     ]
    }
   ],
   "source": [
    "dict_1={1:101,2:102,3:103,4:104}\n",
    "result=dict_1.keys()\n",
    "print(result)"
   ]
  },
  {
   "cell_type": "code",
   "execution_count": 62,
   "id": "544d691c",
   "metadata": {},
   "outputs": [
    {
     "name": "stdout",
     "output_type": "stream",
     "text": [
      "{'Mahindra': 'Scorpio', 'Toyota': 'Fortuner'}\n"
     ]
    }
   ],
   "source": [
    "#pop()method\n",
    "data={\n",
    "    \"Mahindra\":\"Scorpio\",\n",
    "    \"Toyota\":\"Fortuner\",\n",
    "    \"Ford\":\"Endevour\"\n",
    "}\n",
    "data.pop(\"Ford\")\n",
    "\n",
    "print(data)"
   ]
  },
  {
   "cell_type": "code",
   "execution_count": 64,
   "id": "d7100ac4",
   "metadata": {},
   "outputs": [
    {
     "name": "stdout",
     "output_type": "stream",
     "text": [
      "{'rahul': 1, 'vijay': 4, 'priyanshu': 5}\n"
     ]
    }
   ],
   "source": [
    "students={\n",
    "    \"rahul\":1,\n",
    "    \"vijay\":4,\n",
    "    \"priyanshu\":5,\n",
    "    \"sachin\":7\n",
    "}\n",
    "students.pop(\"sachin\")\n",
    "print(students)"
   ]
  },
  {
   "cell_type": "code",
   "execution_count": 65,
   "id": "3143c5d7",
   "metadata": {},
   "outputs": [
    {
     "name": "stdout",
     "output_type": "stream",
     "text": [
      "{101: 'abhi', 102: 'chintu', 104: 'bhupendra'}\n"
     ]
    }
   ],
   "source": [
    "roll_no={\n",
    "    101:\"abhi\",\n",
    "    102:\"chintu\",\n",
    "    103:\"manglu\",\n",
    "    104:\"bhupendra\"\n",
    "}\n",
    "roll_no.pop(103)\n",
    "print(roll_no)"
   ]
  },
  {
   "cell_type": "code",
   "execution_count": 67,
   "id": "6a7bc4d9",
   "metadata": {},
   "outputs": [
    {
     "name": "stdout",
     "output_type": "stream",
     "text": [
      "{'name': 'ajay', 'add': 'krishna nagar'}\n"
     ]
    }
   ],
   "source": [
    "data={\n",
    "    \"name\":\"ajay\",\n",
    "    \"add\":\"krishna nagar\",\n",
    "    \"mob\":9898969495\n",
    "}\n",
    "data.pop(\"mob\")\n",
    "print(data)"
   ]
  },
  {
   "cell_type": "code",
   "execution_count": 69,
   "id": "41884257",
   "metadata": {},
   "outputs": [
    {
     "name": "stdout",
     "output_type": "stream",
     "text": [
      "{'name': 'ajay', 'add': 'krishna nagar'}\n"
     ]
    }
   ],
   "source": [
    "#popitem()method\n",
    "data={\n",
    "    \"name\":\"ajay\",\n",
    "    \"add\":\"krishna nagar\",\n",
    "    \"mob\":9898969495\n",
    "}\n",
    "data.popitem()\n",
    "print(data)"
   ]
  },
  {
   "cell_type": "code",
   "execution_count": 72,
   "id": "60b13e0e",
   "metadata": {},
   "outputs": [
    {
     "name": "stdout",
     "output_type": "stream",
     "text": [
      "{'rahul': 1, 'vijay': 4, 'priyanshu': 5}\n"
     ]
    }
   ],
   "source": [
    "students={\n",
    "    \"rahul\":1,\n",
    "    \"vijay\":4,\n",
    "    \"priyanshu\":5,\n",
    "    \"sachin\":7\n",
    "}\n",
    "students.popitem()\n",
    "print(students)"
   ]
  },
  {
   "cell_type": "code",
   "execution_count": 73,
   "id": "0dadc0f3",
   "metadata": {},
   "outputs": [
    {
     "name": "stdout",
     "output_type": "stream",
     "text": [
      "{1: 908, 2: 654, 3: 321}\n"
     ]
    }
   ],
   "source": [
    "dict_1={1:908,2:654,3:321,4:852}\n",
    "dict_1.popitem()\n",
    "print(dict_1)"
   ]
  },
  {
   "cell_type": "code",
   "execution_count": 74,
   "id": "e6fea624",
   "metadata": {},
   "outputs": [
    {
     "name": "stdout",
     "output_type": "stream",
     "text": [
      "{'Mahindra': 'Scorpio', 'Toyota': 'Fortuner'}\n"
     ]
    }
   ],
   "source": [
    "data={\n",
    "    \"Mahindra\":\"Scorpio\",\n",
    "    \"Toyota\":\"Fortuner\",\n",
    "    \"Ford\":\"Endevour\"\n",
    "}\n",
    "data.popitem()\n",
    "print(data)"
   ]
  },
  {
   "cell_type": "code",
   "execution_count": 10,
   "id": "44f1d99f",
   "metadata": {},
   "outputs": [
    {
     "name": "stdout",
     "output_type": "stream",
     "text": [
      "{'roll': 1005, 'name': 'manan', 'bord': 'mp bord'}\n"
     ]
    }
   ],
   "source": [
    "#update()method\n",
    "detail={\n",
    "    'roll': 1005, \n",
    "    'name': 'kamal', \n",
    "    'bord': 'mp bord'\n",
    "}\n",
    "detail.update(name=\"manan\")\n",
    "print(detail)"
   ]
  },
  {
   "cell_type": "code",
   "execution_count": 31,
   "id": "1fdd03ed",
   "metadata": {},
   "outputs": [
    {
     "name": "stdout",
     "output_type": "stream",
     "text": [
      "{'Mahindra': 'Thar', 'Toyota': 'Fortuner', 'Ford': 'Endevour'}\n"
     ]
    }
   ],
   "source": [
    "data={\n",
    "    \"Mahindra\":\"Scorpio\",\n",
    "    \"Toyota\":\"Fortuner\",\n",
    "    \"Ford\":\"Endevour\"\n",
    "}\n",
    "data.update(Mahindra=\"Thar\")\n",
    "print(data)"
   ]
  },
  {
   "cell_type": "code",
   "execution_count": 44,
   "id": "39921a14",
   "metadata": {},
   "outputs": [
    {
     "name": "stdout",
     "output_type": "stream",
     "text": [
      "{1: 'abc', 2: 'def', 3: 'ghi', 4: 'jkl', 5: 'ynk', 6: 'zxl'}\n"
     ]
    }
   ],
   "source": [
    "dict_1={1:\"abc\",2:\"def\",3:\"ghi\",4:\"jkl\"}\n",
    "dict_2={5:\"ynk\",6:\"zxl\"}\n",
    "dict_1.update(dict_2)\n",
    "print(dict_1)"
   ]
  },
  {
   "cell_type": "code",
   "execution_count": 17,
   "id": "030bef9f",
   "metadata": {},
   "outputs": [
    {
     "name": "stdout",
     "output_type": "stream",
     "text": [
      "{'roll': 1005, 'name': 'kamal', 'bord': 'mp bord', 'percent': '75%'}\n"
     ]
    }
   ],
   "source": [
    "detail={\n",
    "    'roll': 1005, \n",
    "    'name': 'kamal', \n",
    "    'bord': 'mp bord'\n",
    "}\n",
    "detail.update(percent=\"75%\")\n",
    "print(detail)"
   ]
  },
  {
   "cell_type": "code",
   "execution_count": 26,
   "id": "5834f810",
   "metadata": {},
   "outputs": [
    {
     "name": "stdout",
     "output_type": "stream",
     "text": [
      "{'branch': 'cs', 'year': '1st', 'sem': '4th'}\n"
     ]
    }
   ],
   "source": [
    "data={\n",
    "    \"branch\":\"cs\",\n",
    "    \"year\":\"1st\",\n",
    "    \"sem\":\"2nd\"\n",
    "}\n",
    "data.update(sem=\"4th\")\n",
    "print(data)"
   ]
  },
  {
   "cell_type": "code",
   "execution_count": 28,
   "id": "450854c9",
   "metadata": {},
   "outputs": [
    {
     "name": "stdout",
     "output_type": "stream",
     "text": [
      "dict_values(['cs', '1st', '2nd'])\n"
     ]
    }
   ],
   "source": [
    "#values()method\n",
    "data={\n",
    "    \"branch\":\"cs\",\n",
    "    \"year\":\"1st\",\n",
    "    \"sem\":\"2nd\"\n",
    "}\n",
    "new_data=data.values()\n",
    "print(new_data)"
   ]
  },
  {
   "cell_type": "code",
   "execution_count": 29,
   "id": "c6a34f43",
   "metadata": {},
   "outputs": [
    {
     "name": "stdout",
     "output_type": "stream",
     "text": [
      "dict_values([1005, 'kamal', 'mp bord'])\n"
     ]
    }
   ],
   "source": [
    "detail={\n",
    "    'roll': 1005, \n",
    "    'name': 'kamal', \n",
    "    'bord': 'mp bord'\n",
    "}\n",
    "out=detail.values()\n",
    "print(out)"
   ]
  },
  {
   "cell_type": "code",
   "execution_count": 32,
   "id": "5a12e561",
   "metadata": {},
   "outputs": [
    {
     "name": "stdout",
     "output_type": "stream",
     "text": [
      "dict_values(['Ford', 'Endevour', 1980])\n"
     ]
    }
   ],
   "source": [
    "car = {\n",
    "  \"brand\": \"Ford\",\n",
    "  \"model\": \"Endevour\",\n",
    "  \"year\": 1964\n",
    "}\n",
    "x=car.values()\n",
    "car[\"year\"]=1980\n",
    "print(x)"
   ]
  },
  {
   "cell_type": "code",
   "execution_count": 35,
   "id": "423be101",
   "metadata": {},
   "outputs": [
    {
     "name": "stdout",
     "output_type": "stream",
     "text": [
      "165000\n"
     ]
    }
   ],
   "source": [
    "salary={\"raj\":50000,\"anik\":45000,\"dev\":70000}\n",
    "total=salary.values()\n",
    "print(sum(total))"
   ]
  },
  {
   "cell_type": "code",
   "execution_count": 42,
   "id": "237fa8ce",
   "metadata": {},
   "outputs": [
    {
     "name": "stdout",
     "output_type": "stream",
     "text": [
      "{'branch': 'cs', 'year': '1st', 'sem': '2nd'}\n"
     ]
    }
   ],
   "source": [
    "#setdefault()method\n",
    "data={\n",
    "    \"branch\":\"cs\",\n",
    "    \"year\":\"1st\",\n",
    "    \"sem\":\"2nd\"\n",
    "}\n",
    "data.setdefault(\"branch\",\"maths\")\n",
    "print(data)"
   ]
  },
  {
   "cell_type": "code",
   "execution_count": 2,
   "id": "bee1438e",
   "metadata": {},
   "outputs": [
    {
     "name": "stdout",
     "output_type": "stream",
     "text": [
      "rahul\n"
     ]
    }
   ],
   "source": [
    "student={\n",
    "    \"name\":\"rahul\",\n",
    "    \"age\":24,\n",
    "    \"grade\":\"c\"\n",
    "}\n",
    "out=student.get(\"name\")\n",
    "print(out)"
   ]
  },
  {
   "cell_type": "code",
   "execution_count": 3,
   "id": "e39fb144",
   "metadata": {},
   "outputs": [
    {
     "name": "stdout",
     "output_type": "stream",
     "text": [
      "rahul\n"
     ]
    }
   ],
   "source": [
    "student={\n",
    "    \"name\":\"rahul\",\n",
    "    \"age\":24,\n",
    "    \"grade\":\"c\"\n",
    "}\n",
    "out=student[\"name\"]\n",
    "print(out)"
   ]
  },
  {
   "cell_type": "code",
   "execution_count": 5,
   "id": "c3ff2e1f",
   "metadata": {
    "scrolled": true
   },
   "outputs": [
    {
     "name": "stdout",
     "output_type": "stream",
     "text": [
      "{'name': 'rahul', 'age': 24, 'grade': 'a'}\n"
     ]
    }
   ],
   "source": [
    "student={\n",
    "    \"name\":\"rahul\",\n",
    "    \"age\":24,\n",
    "    \"grade\":\"c\"\n",
    "}\n",
    "student[\"grade\"]=\"a\"\n",
    "print(student)"
   ]
  },
  {
   "cell_type": "code",
   "execution_count": 6,
   "id": "b7946e44",
   "metadata": {},
   "outputs": [
    {
     "name": "stdout",
     "output_type": "stream",
     "text": [
      "{'name': 'rahul', 'grade': 'c'}\n"
     ]
    }
   ],
   "source": [
    "student={\n",
    "    \"name\":\"rahul\",\n",
    "    \"age\":24,\n",
    "    \"grade\":\"c\"\n",
    "}\n",
    "student.pop(\"age\")\n",
    "print(student)"
   ]
  },
  {
   "cell_type": "code",
   "execution_count": 7,
   "id": "5a309a69",
   "metadata": {},
   "outputs": [
    {
     "name": "stdout",
     "output_type": "stream",
     "text": [
      "{'name': 'rahul', 'age': 24, 'grade': 'c'}\n"
     ]
    }
   ],
   "source": [
    "student={\n",
    "    \"name\":\"rahul\",\n",
    "    \"age\":24,\n",
    "    \"grade\":\"c\"\n",
    "}\n",
    "new=student.copy()\n",
    "print(new)"
   ]
  },
  {
   "cell_type": "code",
   "execution_count": 8,
   "id": "cab8d3f5",
   "metadata": {},
   "outputs": [
    {
     "name": "stdout",
     "output_type": "stream",
     "text": [
      "['rahul', 24, 'c']\n"
     ]
    }
   ],
   "source": [
    "student_copy={\n",
    "    \"name\":\"rahul\",\n",
    "    \"age\":24,\n",
    "    \"grade\":\"c\"\n",
    "}\n",
    "list1=list(student_copy.values())\n",
    "print(list1)"
   ]
  },
  {
   "cell_type": "code",
   "execution_count": null,
   "id": "320463a0",
   "metadata": {},
   "outputs": [],
   "source": [
    "Create a new dictionary high_marks with only the key-value pairs where the value is greater than 90, \n",
    "Print the new dictionary.\n",
    "Access and print the author of the book in the book_info nested dictionary."
   ]
  },
  {
   "cell_type": "code",
   "execution_count": 13,
   "id": "fe9aab66",
   "metadata": {},
   "outputs": [
    {
     "name": "stdout",
     "output_type": "stream",
     "text": [
      "{'marks3': 98}\n",
      "jkl\n",
      "{'marks1': 77, 'marks2': 90, 'marks3': 98, 'marks4': 99}\n"
     ]
    }
   ],
   "source": [
    "score={\n",
    "    \"marks1\":77,\n",
    "    \"marks2\":90,\n",
    "    \"marks3\":98\n",
    "}\n",
    "higher_score={key:value for key,value in score.items() if value > 90}\n",
    "print(higher_score)\n",
    "book_info={\n",
    "    \"title\":\"abc\",\n",
    "    \"name\":\"jkl\",\n",
    "    \"price\":100\n",
    "}\n",
    "result=book_info[\"name\"]\n",
    "print(result)\n",
    "score.setdefault(\"marks4\",99)\n",
    "print(score)"
   ]
  }
 ],
 "metadata": {
  "kernelspec": {
   "display_name": "Python 3 (ipykernel)",
   "language": "python",
   "name": "python3"
  },
  "language_info": {
   "codemirror_mode": {
    "name": "ipython",
    "version": 3
   },
   "file_extension": ".py",
   "mimetype": "text/x-python",
   "name": "python",
   "nbconvert_exporter": "python",
   "pygments_lexer": "ipython3",
   "version": "3.9.7"
  }
 },
 "nbformat": 4,
 "nbformat_minor": 5
}
